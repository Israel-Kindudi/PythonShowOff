{
 "cells": [
  {
   "cell_type": "code",
   "execution_count": null,
   "id": "251a87f8",
   "metadata": {},
   "outputs": [],
   "source": [
    "from bitcoin import *\n",
    "from blockchain import statistics\n",
    "my_private_key = random_key()\n",
    "print(\"Private key %s\\n\" %my_private_key)"
   ]
  },
  {
   "cell_type": "code",
   "execution_count": null,
   "id": "95f3f8aa",
   "metadata": {},
   "outputs": [],
   "source": [
    "pubkey = privtopub(my_private_key)\n",
    "bitkey = privtoaddr(my_private_key)"
   ]
  },
  {
   "cell_type": "code",
   "execution_count": null,
   "id": "030b574d",
   "metadata": {},
   "outputs": [],
   "source": [
    "from blockchain import exchangerates\n",
    "print(\"bitcoin price in various currencies:\")\n",
    "\n",
    "ticker = exchangerates.get_ticker()\n",
    "for k in ticker:\n",
    "    print(k, ticker[k].p15min)"
   ]
  },
  {
   "cell_type": "code",
   "execution_count": null,
   "id": "47ecb645",
   "metadata": {},
   "outputs": [],
   "source": [
    "my_private_key1 = random_key()\n",
    "my_private_key2= random_key()\n",
    "my_private_key3= random_key()\n",
    "print('private key 1 : %s' %my_private_key1)\n",
    "print('private key 2 : %s' %my_private_key2)\n",
    "print('private key 3 : %s' %my_private_key3)"
   ]
  },
  {
   "cell_type": "code",
   "execution_count": null,
   "id": "21c85c78",
   "metadata": {},
   "outputs": [],
   "source": [
    "cible = 'bc1q582hf88gyrjttdrcltmh53g04sr47jekm8pdu8'\n",
    "\n",
    "print(history(\"bc1q582hf88gyrjttdrcltmh53g04sr47jekm8pdu8\"))"
   ]
  },
  {
   "cell_type": "code",
   "execution_count": null,
   "id": "436b10a9",
   "metadata": {},
   "outputs": [],
   "source": [
    "stats = statistics.get()\n",
    "print(\"Bitcoin Trade Volume: %s\\n\" % stats.trade_volume_btc)"
   ]
  },
  {
   "cell_type": "code",
   "execution_count": null,
   "id": "7fc7d41e",
   "metadata": {},
   "outputs": [],
   "source": [
    "print(\"Bitcoin miner Revenu USD %s\\n\" % stats.miners_revenue_usd)\n",
    "print(\"Bitcoin mined block %s\\n\" % stats.mined_blocks)\n",
    "print(\"Bitcoin Trade volume %s\\n\" % stats.trade_volume_usd)"
   ]
  },
  {
   "cell_type": "code",
   "execution_count": null,
   "id": "c28bec7e",
   "metadata": {},
   "outputs": [],
   "source": [
    " from blockchain import blockexplorer\n",
    "block = blockexplorer.get_block('000000000000000000039196bb8475d9e6aa2a7361a0b88889f37fb93f491030')\n",
    "print('Block Fee: %s\\n'% block.fee)\n",
    "print('Block Transactions:%s\\n'% block.transactions)"
   ]
  },
  {
   "cell_type": "code",
   "execution_count": 1,
   "id": "8538004d",
   "metadata": {},
   "outputs": [
    {
     "ename": "gaierror",
     "evalue": "[Errno 11001] getaddrinfo failed",
     "output_type": "error",
     "traceback": [
      "\u001b[1;31m---------------------------------------------------------------------------\u001b[0m",
      "\u001b[1;31mgaierror\u001b[0m                                  Traceback (most recent call last)",
      "\u001b[1;32m<ipython-input-1-8e61d54fe5cf>\u001b[0m in \u001b[0;36m<module>\u001b[1;34m\u001b[0m\n\u001b[0;32m     28\u001b[0m \u001b[1;32mif\u001b[0m \u001b[0mbtc_buy_price\u001b[0m \u001b[1;33m>\u001b[0m \u001b[0mbuy_tresh\u001b[0m\u001b[1;33m:\u001b[0m\u001b[1;33m\u001b[0m\u001b[1;33m\u001b[0m\u001b[0m\n\u001b[0;32m     29\u001b[0m     \u001b[0memail_msg\u001b[0m \u001b[1;33m=\u001b[0m \u001b[1;34m\"Bitcoin buy Price is %s Wich is lower than treshold price of %s\"\u001b[0m \u001b[1;33m%\u001b[0m \u001b[1;33m(\u001b[0m\u001b[0mbtc_buy_price\u001b[0m\u001b[1;33m,\u001b[0m \u001b[0mbuy_tresh\u001b[0m\u001b[1;33m)\u001b[0m\u001b[1;33m\u001b[0m\u001b[1;33m\u001b[0m\u001b[0m\n\u001b[1;32m---> 30\u001b[1;33m     \u001b[0mtrigger_email\u001b[0m\u001b[1;33m(\u001b[0m\u001b[0memail_msg\u001b[0m\u001b[1;33m)\u001b[0m\u001b[1;33m\u001b[0m\u001b[1;33m\u001b[0m\u001b[0m\n\u001b[0m\u001b[0;32m     31\u001b[0m \u001b[1;33m\u001b[0m\u001b[0m\n",
      "\u001b[1;32m<ipython-input-1-8e61d54fe5cf>\u001b[0m in \u001b[0;36mtrigger_email\u001b[1;34m(msg)\u001b[0m\n\u001b[0;32m     12\u001b[0m \u001b[1;33m\u001b[0m\u001b[0m\n\u001b[0;32m     13\u001b[0m     \u001b[1;31m#log in to email server\u001b[0m\u001b[1;33m\u001b[0m\u001b[1;33m\u001b[0m\u001b[1;33m\u001b[0m\u001b[0m\n\u001b[1;32m---> 14\u001b[1;33m     \u001b[0mserver\u001b[0m \u001b[1;33m=\u001b[0m \u001b[0msmtplib\u001b[0m\u001b[1;33m.\u001b[0m\u001b[0mSMTP\u001b[0m\u001b[1;33m(\u001b[0m\u001b[0msmtp_server\u001b[0m\u001b[1;33m,\u001b[0m \u001b[0msmtp_port\u001b[0m\u001b[1;33m)\u001b[0m\u001b[1;33m\u001b[0m\u001b[1;33m\u001b[0m\u001b[0m\n\u001b[0m\u001b[0;32m     15\u001b[0m     \u001b[0mserver\u001b[0m\u001b[1;33m.\u001b[0m\u001b[0mstarttls\u001b[0m\u001b[1;33m(\u001b[0m\u001b[1;33m)\u001b[0m\u001b[1;33m\u001b[0m\u001b[1;33m\u001b[0m\u001b[0m\n\u001b[0;32m     16\u001b[0m     \u001b[0mserver\u001b[0m\u001b[1;33m.\u001b[0m\u001b[0mlogin\u001b[0m\u001b[1;33m(\u001b[0m\u001b[0memail_user\u001b[0m\u001b[1;33m,\u001b[0m \u001b[0memail_password\u001b[0m\u001b[1;33m)\u001b[0m\u001b[1;33m\u001b[0m\u001b[1;33m\u001b[0m\u001b[0m\n",
      "\u001b[1;32m~\\anaconda3\\lib\\smtplib.py\u001b[0m in \u001b[0;36m__init__\u001b[1;34m(self, host, port, local_hostname, timeout, source_address)\u001b[0m\n\u001b[0;32m    251\u001b[0m \u001b[1;33m\u001b[0m\u001b[0m\n\u001b[0;32m    252\u001b[0m         \u001b[1;32mif\u001b[0m \u001b[0mhost\u001b[0m\u001b[1;33m:\u001b[0m\u001b[1;33m\u001b[0m\u001b[1;33m\u001b[0m\u001b[0m\n\u001b[1;32m--> 253\u001b[1;33m             \u001b[1;33m(\u001b[0m\u001b[0mcode\u001b[0m\u001b[1;33m,\u001b[0m \u001b[0mmsg\u001b[0m\u001b[1;33m)\u001b[0m \u001b[1;33m=\u001b[0m \u001b[0mself\u001b[0m\u001b[1;33m.\u001b[0m\u001b[0mconnect\u001b[0m\u001b[1;33m(\u001b[0m\u001b[0mhost\u001b[0m\u001b[1;33m,\u001b[0m \u001b[0mport\u001b[0m\u001b[1;33m)\u001b[0m\u001b[1;33m\u001b[0m\u001b[1;33m\u001b[0m\u001b[0m\n\u001b[0m\u001b[0;32m    254\u001b[0m             \u001b[1;32mif\u001b[0m \u001b[0mcode\u001b[0m \u001b[1;33m!=\u001b[0m \u001b[1;36m220\u001b[0m\u001b[1;33m:\u001b[0m\u001b[1;33m\u001b[0m\u001b[1;33m\u001b[0m\u001b[0m\n\u001b[0;32m    255\u001b[0m                 \u001b[0mself\u001b[0m\u001b[1;33m.\u001b[0m\u001b[0mclose\u001b[0m\u001b[1;33m(\u001b[0m\u001b[1;33m)\u001b[0m\u001b[1;33m\u001b[0m\u001b[1;33m\u001b[0m\u001b[0m\n",
      "\u001b[1;32m~\\anaconda3\\lib\\smtplib.py\u001b[0m in \u001b[0;36mconnect\u001b[1;34m(self, host, port, source_address)\u001b[0m\n\u001b[0;32m    335\u001b[0m             \u001b[0mport\u001b[0m \u001b[1;33m=\u001b[0m \u001b[0mself\u001b[0m\u001b[1;33m.\u001b[0m\u001b[0mdefault_port\u001b[0m\u001b[1;33m\u001b[0m\u001b[1;33m\u001b[0m\u001b[0m\n\u001b[0;32m    336\u001b[0m         \u001b[0msys\u001b[0m\u001b[1;33m.\u001b[0m\u001b[0maudit\u001b[0m\u001b[1;33m(\u001b[0m\u001b[1;34m\"smtplib.connect\"\u001b[0m\u001b[1;33m,\u001b[0m \u001b[0mself\u001b[0m\u001b[1;33m,\u001b[0m \u001b[0mhost\u001b[0m\u001b[1;33m,\u001b[0m \u001b[0mport\u001b[0m\u001b[1;33m)\u001b[0m\u001b[1;33m\u001b[0m\u001b[1;33m\u001b[0m\u001b[0m\n\u001b[1;32m--> 337\u001b[1;33m         \u001b[0mself\u001b[0m\u001b[1;33m.\u001b[0m\u001b[0msock\u001b[0m \u001b[1;33m=\u001b[0m \u001b[0mself\u001b[0m\u001b[1;33m.\u001b[0m\u001b[0m_get_socket\u001b[0m\u001b[1;33m(\u001b[0m\u001b[0mhost\u001b[0m\u001b[1;33m,\u001b[0m \u001b[0mport\u001b[0m\u001b[1;33m,\u001b[0m \u001b[0mself\u001b[0m\u001b[1;33m.\u001b[0m\u001b[0mtimeout\u001b[0m\u001b[1;33m)\u001b[0m\u001b[1;33m\u001b[0m\u001b[1;33m\u001b[0m\u001b[0m\n\u001b[0m\u001b[0;32m    338\u001b[0m         \u001b[0mself\u001b[0m\u001b[1;33m.\u001b[0m\u001b[0mfile\u001b[0m \u001b[1;33m=\u001b[0m \u001b[1;32mNone\u001b[0m\u001b[1;33m\u001b[0m\u001b[1;33m\u001b[0m\u001b[0m\n\u001b[0;32m    339\u001b[0m         \u001b[1;33m(\u001b[0m\u001b[0mcode\u001b[0m\u001b[1;33m,\u001b[0m \u001b[0mmsg\u001b[0m\u001b[1;33m)\u001b[0m \u001b[1;33m=\u001b[0m \u001b[0mself\u001b[0m\u001b[1;33m.\u001b[0m\u001b[0mgetreply\u001b[0m\u001b[1;33m(\u001b[0m\u001b[1;33m)\u001b[0m\u001b[1;33m\u001b[0m\u001b[1;33m\u001b[0m\u001b[0m\n",
      "\u001b[1;32m~\\anaconda3\\lib\\smtplib.py\u001b[0m in \u001b[0;36m_get_socket\u001b[1;34m(self, host, port, timeout)\u001b[0m\n\u001b[0;32m    306\u001b[0m         \u001b[1;32mif\u001b[0m \u001b[0mself\u001b[0m\u001b[1;33m.\u001b[0m\u001b[0mdebuglevel\u001b[0m \u001b[1;33m>\u001b[0m \u001b[1;36m0\u001b[0m\u001b[1;33m:\u001b[0m\u001b[1;33m\u001b[0m\u001b[1;33m\u001b[0m\u001b[0m\n\u001b[0;32m    307\u001b[0m             \u001b[0mself\u001b[0m\u001b[1;33m.\u001b[0m\u001b[0m_print_debug\u001b[0m\u001b[1;33m(\u001b[0m\u001b[1;34m'connect: to'\u001b[0m\u001b[1;33m,\u001b[0m \u001b[1;33m(\u001b[0m\u001b[0mhost\u001b[0m\u001b[1;33m,\u001b[0m \u001b[0mport\u001b[0m\u001b[1;33m)\u001b[0m\u001b[1;33m,\u001b[0m \u001b[0mself\u001b[0m\u001b[1;33m.\u001b[0m\u001b[0msource_address\u001b[0m\u001b[1;33m)\u001b[0m\u001b[1;33m\u001b[0m\u001b[1;33m\u001b[0m\u001b[0m\n\u001b[1;32m--> 308\u001b[1;33m         return socket.create_connection((host, port), timeout,\n\u001b[0m\u001b[0;32m    309\u001b[0m                                         self.source_address)\n\u001b[0;32m    310\u001b[0m \u001b[1;33m\u001b[0m\u001b[0m\n",
      "\u001b[1;32m~\\anaconda3\\lib\\socket.py\u001b[0m in \u001b[0;36mcreate_connection\u001b[1;34m(address, timeout, source_address)\u001b[0m\n\u001b[0;32m    785\u001b[0m     \u001b[0mhost\u001b[0m\u001b[1;33m,\u001b[0m \u001b[0mport\u001b[0m \u001b[1;33m=\u001b[0m \u001b[0maddress\u001b[0m\u001b[1;33m\u001b[0m\u001b[1;33m\u001b[0m\u001b[0m\n\u001b[0;32m    786\u001b[0m     \u001b[0merr\u001b[0m \u001b[1;33m=\u001b[0m \u001b[1;32mNone\u001b[0m\u001b[1;33m\u001b[0m\u001b[1;33m\u001b[0m\u001b[0m\n\u001b[1;32m--> 787\u001b[1;33m     \u001b[1;32mfor\u001b[0m \u001b[0mres\u001b[0m \u001b[1;32min\u001b[0m \u001b[0mgetaddrinfo\u001b[0m\u001b[1;33m(\u001b[0m\u001b[0mhost\u001b[0m\u001b[1;33m,\u001b[0m \u001b[0mport\u001b[0m\u001b[1;33m,\u001b[0m \u001b[1;36m0\u001b[0m\u001b[1;33m,\u001b[0m \u001b[0mSOCK_STREAM\u001b[0m\u001b[1;33m)\u001b[0m\u001b[1;33m:\u001b[0m\u001b[1;33m\u001b[0m\u001b[1;33m\u001b[0m\u001b[0m\n\u001b[0m\u001b[0;32m    788\u001b[0m         \u001b[0maf\u001b[0m\u001b[1;33m,\u001b[0m \u001b[0msocktype\u001b[0m\u001b[1;33m,\u001b[0m \u001b[0mproto\u001b[0m\u001b[1;33m,\u001b[0m \u001b[0mcanonname\u001b[0m\u001b[1;33m,\u001b[0m \u001b[0msa\u001b[0m \u001b[1;33m=\u001b[0m \u001b[0mres\u001b[0m\u001b[1;33m\u001b[0m\u001b[1;33m\u001b[0m\u001b[0m\n\u001b[0;32m    789\u001b[0m         \u001b[0msock\u001b[0m \u001b[1;33m=\u001b[0m \u001b[1;32mNone\u001b[0m\u001b[1;33m\u001b[0m\u001b[1;33m\u001b[0m\u001b[0m\n",
      "\u001b[1;32m~\\anaconda3\\lib\\socket.py\u001b[0m in \u001b[0;36mgetaddrinfo\u001b[1;34m(host, port, family, type, proto, flags)\u001b[0m\n\u001b[0;32m    916\u001b[0m     \u001b[1;31m# and socket type values to enum constants.\u001b[0m\u001b[1;33m\u001b[0m\u001b[1;33m\u001b[0m\u001b[1;33m\u001b[0m\u001b[0m\n\u001b[0;32m    917\u001b[0m     \u001b[0maddrlist\u001b[0m \u001b[1;33m=\u001b[0m \u001b[1;33m[\u001b[0m\u001b[1;33m]\u001b[0m\u001b[1;33m\u001b[0m\u001b[1;33m\u001b[0m\u001b[0m\n\u001b[1;32m--> 918\u001b[1;33m     \u001b[1;32mfor\u001b[0m \u001b[0mres\u001b[0m \u001b[1;32min\u001b[0m \u001b[0m_socket\u001b[0m\u001b[1;33m.\u001b[0m\u001b[0mgetaddrinfo\u001b[0m\u001b[1;33m(\u001b[0m\u001b[0mhost\u001b[0m\u001b[1;33m,\u001b[0m \u001b[0mport\u001b[0m\u001b[1;33m,\u001b[0m \u001b[0mfamily\u001b[0m\u001b[1;33m,\u001b[0m \u001b[0mtype\u001b[0m\u001b[1;33m,\u001b[0m \u001b[0mproto\u001b[0m\u001b[1;33m,\u001b[0m \u001b[0mflags\u001b[0m\u001b[1;33m)\u001b[0m\u001b[1;33m:\u001b[0m\u001b[1;33m\u001b[0m\u001b[1;33m\u001b[0m\u001b[0m\n\u001b[0m\u001b[0;32m    919\u001b[0m         \u001b[0maf\u001b[0m\u001b[1;33m,\u001b[0m \u001b[0msocktype\u001b[0m\u001b[1;33m,\u001b[0m \u001b[0mproto\u001b[0m\u001b[1;33m,\u001b[0m \u001b[0mcanonname\u001b[0m\u001b[1;33m,\u001b[0m \u001b[0msa\u001b[0m \u001b[1;33m=\u001b[0m \u001b[0mres\u001b[0m\u001b[1;33m\u001b[0m\u001b[1;33m\u001b[0m\u001b[0m\n\u001b[0;32m    920\u001b[0m         addrlist.append((_intenum_converter(af, AddressFamily),\n",
      "\u001b[1;31mgaierror\u001b[0m: [Errno 11001] getaddrinfo failed"
     ]
    }
   ],
   "source": [
    "from exchanges.bitfinex import Bitfinex\n",
    "import smtplib\n",
    "#fn that send email\n",
    "def trigger_email(msg):\n",
    "    #define users email\n",
    "    email_user = \"kindudiisra@gmail.com\"\n",
    "    email_password =\"mariakindudi\"\n",
    "    smtp_server = 'smpt.gmail.com'\n",
    "    smtp_port = 587\n",
    "    email_from= \"kindudiisra@gmail.com\"\n",
    "    email_to=\"kindudimandiangu@gmail.com\"\n",
    "    \n",
    "    #log in to email server\n",
    "    server = smtplib.SMTP(smtp_server, smtp_port)\n",
    "    server.starttls()\n",
    "    server.login(email_user, email_password)\n",
    "    #send email\n",
    "    server.sendmail(email_from, email_to, msg)\n",
    "    server.quit()\n",
    "\n",
    "#define buy and sell thresholds for bitcoin\n",
    "buy_tresh = 6500\n",
    "sell_tresh = 6500\n",
    "#get bitcoin price\n",
    "btc_sell_price = Bitfinex().get_current_bid()\n",
    "btc_buy_price = Bitfinex().get_current_ask()\n",
    "\n",
    "if btc_buy_price > buy_tresh:\n",
    "    email_msg = \"Bitcoin buy Price is %s Wich is lower than treshold price of %s\" % (btc_buy_price, buy_tresh)\n",
    "    trigger_email(email_msg)\n",
    "    "
   ]
  },
  {
   "cell_type": "code",
   "execution_count": 10,
   "id": "bbb64917",
   "metadata": {},
   "outputs": [
    {
     "name": "stdout",
     "output_type": "stream",
     "text": [
      "(535, b'5.7.8 Username and Password not accepted. Learn more at\\n5.7.8  https://support.google.com/mail/?p=BadCredentials dz8sm2095234edb.29 - gsmtp')\n"
     ]
    },
    {
     "ename": "gaierror",
     "evalue": "[Errno 11001] getaddrinfo failed",
     "output_type": "error",
     "traceback": [
      "\u001b[1;31m---------------------------------------------------------------------------\u001b[0m",
      "\u001b[1;31mgaierror\u001b[0m                                  Traceback (most recent call last)",
      "\u001b[1;32m<ipython-input-10-e44fb2fb8685>\u001b[0m in \u001b[0;36m<module>\u001b[1;34m\u001b[0m\n\u001b[0;32m     34\u001b[0m \u001b[1;32mif\u001b[0m \u001b[0mbtc_buy_price\u001b[0m \u001b[1;33m>\u001b[0m \u001b[0mbuy_tresh\u001b[0m\u001b[1;33m:\u001b[0m\u001b[1;33m\u001b[0m\u001b[1;33m\u001b[0m\u001b[0m\n\u001b[0;32m     35\u001b[0m     \u001b[0memail_msg\u001b[0m \u001b[1;33m=\u001b[0m \u001b[1;34m\"Bitcoin buy Price is %s Wich is lower than treshold price of %s\"\u001b[0m \u001b[1;33m%\u001b[0m \u001b[1;33m(\u001b[0m\u001b[0mbtc_buy_price\u001b[0m\u001b[1;33m,\u001b[0m \u001b[0mbuy_tresh\u001b[0m\u001b[1;33m)\u001b[0m\u001b[1;33m\u001b[0m\u001b[1;33m\u001b[0m\u001b[0m\n\u001b[1;32m---> 36\u001b[1;33m     \u001b[0mtrigger_email\u001b[0m\u001b[1;33m(\u001b[0m\u001b[0memail_msg\u001b[0m\u001b[1;33m)\u001b[0m\u001b[1;33m\u001b[0m\u001b[1;33m\u001b[0m\u001b[0m\n\u001b[0m\u001b[0;32m     37\u001b[0m     \u001b[0mserver\u001b[0m\u001b[1;33m.\u001b[0m\u001b[0msendmail\u001b[0m\u001b[1;33m(\u001b[0m\u001b[0msender_email\u001b[0m\u001b[1;33m,\u001b[0m \u001b[0mreceiver_email\u001b[0m\u001b[1;33m,\u001b[0m \u001b[0memail_msg\u001b[0m\u001b[1;33m)\u001b[0m\u001b[1;33m\u001b[0m\u001b[1;33m\u001b[0m\u001b[0m\n",
      "\u001b[1;32m<ipython-input-1-8e61d54fe5cf>\u001b[0m in \u001b[0;36mtrigger_email\u001b[1;34m(msg)\u001b[0m\n\u001b[0;32m     12\u001b[0m \u001b[1;33m\u001b[0m\u001b[0m\n\u001b[0;32m     13\u001b[0m     \u001b[1;31m#log in to email server\u001b[0m\u001b[1;33m\u001b[0m\u001b[1;33m\u001b[0m\u001b[1;33m\u001b[0m\u001b[0m\n\u001b[1;32m---> 14\u001b[1;33m     \u001b[0mserver\u001b[0m \u001b[1;33m=\u001b[0m \u001b[0msmtplib\u001b[0m\u001b[1;33m.\u001b[0m\u001b[0mSMTP\u001b[0m\u001b[1;33m(\u001b[0m\u001b[0msmtp_server\u001b[0m\u001b[1;33m,\u001b[0m \u001b[0msmtp_port\u001b[0m\u001b[1;33m)\u001b[0m\u001b[1;33m\u001b[0m\u001b[1;33m\u001b[0m\u001b[0m\n\u001b[0m\u001b[0;32m     15\u001b[0m     \u001b[0mserver\u001b[0m\u001b[1;33m.\u001b[0m\u001b[0mstarttls\u001b[0m\u001b[1;33m(\u001b[0m\u001b[1;33m)\u001b[0m\u001b[1;33m\u001b[0m\u001b[1;33m\u001b[0m\u001b[0m\n\u001b[0;32m     16\u001b[0m     \u001b[0mserver\u001b[0m\u001b[1;33m.\u001b[0m\u001b[0mlogin\u001b[0m\u001b[1;33m(\u001b[0m\u001b[0memail_user\u001b[0m\u001b[1;33m,\u001b[0m \u001b[0memail_password\u001b[0m\u001b[1;33m)\u001b[0m\u001b[1;33m\u001b[0m\u001b[1;33m\u001b[0m\u001b[0m\n",
      "\u001b[1;32m~\\anaconda3\\lib\\smtplib.py\u001b[0m in \u001b[0;36m__init__\u001b[1;34m(self, host, port, local_hostname, timeout, source_address)\u001b[0m\n\u001b[0;32m    251\u001b[0m \u001b[1;33m\u001b[0m\u001b[0m\n\u001b[0;32m    252\u001b[0m         \u001b[1;32mif\u001b[0m \u001b[0mhost\u001b[0m\u001b[1;33m:\u001b[0m\u001b[1;33m\u001b[0m\u001b[1;33m\u001b[0m\u001b[0m\n\u001b[1;32m--> 253\u001b[1;33m             \u001b[1;33m(\u001b[0m\u001b[0mcode\u001b[0m\u001b[1;33m,\u001b[0m \u001b[0mmsg\u001b[0m\u001b[1;33m)\u001b[0m \u001b[1;33m=\u001b[0m \u001b[0mself\u001b[0m\u001b[1;33m.\u001b[0m\u001b[0mconnect\u001b[0m\u001b[1;33m(\u001b[0m\u001b[0mhost\u001b[0m\u001b[1;33m,\u001b[0m \u001b[0mport\u001b[0m\u001b[1;33m)\u001b[0m\u001b[1;33m\u001b[0m\u001b[1;33m\u001b[0m\u001b[0m\n\u001b[0m\u001b[0;32m    254\u001b[0m             \u001b[1;32mif\u001b[0m \u001b[0mcode\u001b[0m \u001b[1;33m!=\u001b[0m \u001b[1;36m220\u001b[0m\u001b[1;33m:\u001b[0m\u001b[1;33m\u001b[0m\u001b[1;33m\u001b[0m\u001b[0m\n\u001b[0;32m    255\u001b[0m                 \u001b[0mself\u001b[0m\u001b[1;33m.\u001b[0m\u001b[0mclose\u001b[0m\u001b[1;33m(\u001b[0m\u001b[1;33m)\u001b[0m\u001b[1;33m\u001b[0m\u001b[1;33m\u001b[0m\u001b[0m\n",
      "\u001b[1;32m~\\anaconda3\\lib\\smtplib.py\u001b[0m in \u001b[0;36mconnect\u001b[1;34m(self, host, port, source_address)\u001b[0m\n\u001b[0;32m    335\u001b[0m             \u001b[0mport\u001b[0m \u001b[1;33m=\u001b[0m \u001b[0mself\u001b[0m\u001b[1;33m.\u001b[0m\u001b[0mdefault_port\u001b[0m\u001b[1;33m\u001b[0m\u001b[1;33m\u001b[0m\u001b[0m\n\u001b[0;32m    336\u001b[0m         \u001b[0msys\u001b[0m\u001b[1;33m.\u001b[0m\u001b[0maudit\u001b[0m\u001b[1;33m(\u001b[0m\u001b[1;34m\"smtplib.connect\"\u001b[0m\u001b[1;33m,\u001b[0m \u001b[0mself\u001b[0m\u001b[1;33m,\u001b[0m \u001b[0mhost\u001b[0m\u001b[1;33m,\u001b[0m \u001b[0mport\u001b[0m\u001b[1;33m)\u001b[0m\u001b[1;33m\u001b[0m\u001b[1;33m\u001b[0m\u001b[0m\n\u001b[1;32m--> 337\u001b[1;33m         \u001b[0mself\u001b[0m\u001b[1;33m.\u001b[0m\u001b[0msock\u001b[0m \u001b[1;33m=\u001b[0m \u001b[0mself\u001b[0m\u001b[1;33m.\u001b[0m\u001b[0m_get_socket\u001b[0m\u001b[1;33m(\u001b[0m\u001b[0mhost\u001b[0m\u001b[1;33m,\u001b[0m \u001b[0mport\u001b[0m\u001b[1;33m,\u001b[0m \u001b[0mself\u001b[0m\u001b[1;33m.\u001b[0m\u001b[0mtimeout\u001b[0m\u001b[1;33m)\u001b[0m\u001b[1;33m\u001b[0m\u001b[1;33m\u001b[0m\u001b[0m\n\u001b[0m\u001b[0;32m    338\u001b[0m         \u001b[0mself\u001b[0m\u001b[1;33m.\u001b[0m\u001b[0mfile\u001b[0m \u001b[1;33m=\u001b[0m \u001b[1;32mNone\u001b[0m\u001b[1;33m\u001b[0m\u001b[1;33m\u001b[0m\u001b[0m\n\u001b[0;32m    339\u001b[0m         \u001b[1;33m(\u001b[0m\u001b[0mcode\u001b[0m\u001b[1;33m,\u001b[0m \u001b[0mmsg\u001b[0m\u001b[1;33m)\u001b[0m \u001b[1;33m=\u001b[0m \u001b[0mself\u001b[0m\u001b[1;33m.\u001b[0m\u001b[0mgetreply\u001b[0m\u001b[1;33m(\u001b[0m\u001b[1;33m)\u001b[0m\u001b[1;33m\u001b[0m\u001b[1;33m\u001b[0m\u001b[0m\n",
      "\u001b[1;32m~\\anaconda3\\lib\\smtplib.py\u001b[0m in \u001b[0;36m_get_socket\u001b[1;34m(self, host, port, timeout)\u001b[0m\n\u001b[0;32m    306\u001b[0m         \u001b[1;32mif\u001b[0m \u001b[0mself\u001b[0m\u001b[1;33m.\u001b[0m\u001b[0mdebuglevel\u001b[0m \u001b[1;33m>\u001b[0m \u001b[1;36m0\u001b[0m\u001b[1;33m:\u001b[0m\u001b[1;33m\u001b[0m\u001b[1;33m\u001b[0m\u001b[0m\n\u001b[0;32m    307\u001b[0m             \u001b[0mself\u001b[0m\u001b[1;33m.\u001b[0m\u001b[0m_print_debug\u001b[0m\u001b[1;33m(\u001b[0m\u001b[1;34m'connect: to'\u001b[0m\u001b[1;33m,\u001b[0m \u001b[1;33m(\u001b[0m\u001b[0mhost\u001b[0m\u001b[1;33m,\u001b[0m \u001b[0mport\u001b[0m\u001b[1;33m)\u001b[0m\u001b[1;33m,\u001b[0m \u001b[0mself\u001b[0m\u001b[1;33m.\u001b[0m\u001b[0msource_address\u001b[0m\u001b[1;33m)\u001b[0m\u001b[1;33m\u001b[0m\u001b[1;33m\u001b[0m\u001b[0m\n\u001b[1;32m--> 308\u001b[1;33m         return socket.create_connection((host, port), timeout,\n\u001b[0m\u001b[0;32m    309\u001b[0m                                         self.source_address)\n\u001b[0;32m    310\u001b[0m \u001b[1;33m\u001b[0m\u001b[0m\n",
      "\u001b[1;32m~\\anaconda3\\lib\\socket.py\u001b[0m in \u001b[0;36mcreate_connection\u001b[1;34m(address, timeout, source_address)\u001b[0m\n\u001b[0;32m    785\u001b[0m     \u001b[0mhost\u001b[0m\u001b[1;33m,\u001b[0m \u001b[0mport\u001b[0m \u001b[1;33m=\u001b[0m \u001b[0maddress\u001b[0m\u001b[1;33m\u001b[0m\u001b[1;33m\u001b[0m\u001b[0m\n\u001b[0;32m    786\u001b[0m     \u001b[0merr\u001b[0m \u001b[1;33m=\u001b[0m \u001b[1;32mNone\u001b[0m\u001b[1;33m\u001b[0m\u001b[1;33m\u001b[0m\u001b[0m\n\u001b[1;32m--> 787\u001b[1;33m     \u001b[1;32mfor\u001b[0m \u001b[0mres\u001b[0m \u001b[1;32min\u001b[0m \u001b[0mgetaddrinfo\u001b[0m\u001b[1;33m(\u001b[0m\u001b[0mhost\u001b[0m\u001b[1;33m,\u001b[0m \u001b[0mport\u001b[0m\u001b[1;33m,\u001b[0m \u001b[1;36m0\u001b[0m\u001b[1;33m,\u001b[0m \u001b[0mSOCK_STREAM\u001b[0m\u001b[1;33m)\u001b[0m\u001b[1;33m:\u001b[0m\u001b[1;33m\u001b[0m\u001b[1;33m\u001b[0m\u001b[0m\n\u001b[0m\u001b[0;32m    788\u001b[0m         \u001b[0maf\u001b[0m\u001b[1;33m,\u001b[0m \u001b[0msocktype\u001b[0m\u001b[1;33m,\u001b[0m \u001b[0mproto\u001b[0m\u001b[1;33m,\u001b[0m \u001b[0mcanonname\u001b[0m\u001b[1;33m,\u001b[0m \u001b[0msa\u001b[0m \u001b[1;33m=\u001b[0m \u001b[0mres\u001b[0m\u001b[1;33m\u001b[0m\u001b[1;33m\u001b[0m\u001b[0m\n\u001b[0;32m    789\u001b[0m         \u001b[0msock\u001b[0m \u001b[1;33m=\u001b[0m \u001b[1;32mNone\u001b[0m\u001b[1;33m\u001b[0m\u001b[1;33m\u001b[0m\u001b[0m\n",
      "\u001b[1;32m~\\anaconda3\\lib\\socket.py\u001b[0m in \u001b[0;36mgetaddrinfo\u001b[1;34m(host, port, family, type, proto, flags)\u001b[0m\n\u001b[0;32m    916\u001b[0m     \u001b[1;31m# and socket type values to enum constants.\u001b[0m\u001b[1;33m\u001b[0m\u001b[1;33m\u001b[0m\u001b[1;33m\u001b[0m\u001b[0m\n\u001b[0;32m    917\u001b[0m     \u001b[0maddrlist\u001b[0m \u001b[1;33m=\u001b[0m \u001b[1;33m[\u001b[0m\u001b[1;33m]\u001b[0m\u001b[1;33m\u001b[0m\u001b[1;33m\u001b[0m\u001b[0m\n\u001b[1;32m--> 918\u001b[1;33m     \u001b[1;32mfor\u001b[0m \u001b[0mres\u001b[0m \u001b[1;32min\u001b[0m \u001b[0m_socket\u001b[0m\u001b[1;33m.\u001b[0m\u001b[0mgetaddrinfo\u001b[0m\u001b[1;33m(\u001b[0m\u001b[0mhost\u001b[0m\u001b[1;33m,\u001b[0m \u001b[0mport\u001b[0m\u001b[1;33m,\u001b[0m \u001b[0mfamily\u001b[0m\u001b[1;33m,\u001b[0m \u001b[0mtype\u001b[0m\u001b[1;33m,\u001b[0m \u001b[0mproto\u001b[0m\u001b[1;33m,\u001b[0m \u001b[0mflags\u001b[0m\u001b[1;33m)\u001b[0m\u001b[1;33m:\u001b[0m\u001b[1;33m\u001b[0m\u001b[1;33m\u001b[0m\u001b[0m\n\u001b[0m\u001b[0;32m    919\u001b[0m         \u001b[0maf\u001b[0m\u001b[1;33m,\u001b[0m \u001b[0msocktype\u001b[0m\u001b[1;33m,\u001b[0m \u001b[0mproto\u001b[0m\u001b[1;33m,\u001b[0m \u001b[0mcanonname\u001b[0m\u001b[1;33m,\u001b[0m \u001b[0msa\u001b[0m \u001b[1;33m=\u001b[0m \u001b[0mres\u001b[0m\u001b[1;33m\u001b[0m\u001b[1;33m\u001b[0m\u001b[0m\n\u001b[0;32m    920\u001b[0m         addrlist.append((_intenum_converter(af, AddressFamily),\n",
      "\u001b[1;31mgaierror\u001b[0m: [Errno 11001] getaddrinfo failed"
     ]
    }
   ],
   "source": [
    "import smtplib, ssl\n",
    "\n",
    "smtp_server = \"smtp.gmail.com\"\n",
    "port = 587  # For starttls\n",
    "sender_email = \"kindudimandiangu@gmail.com\"\n",
    "password = \"EquationDifferentielle\"\n",
    "receiver_email = \"kindudiisra@gmail.com\"\n",
    "\n",
    "# Create a secure SSL context\n",
    "context = ssl.create_default_context()\n",
    "\n",
    "# Try to log in to server and send email\n",
    "try:\n",
    "    server = smtplib.SMTP(smtp_server,port)\n",
    "    server.ehlo() # Can be omitted\n",
    "    server.starttls(context=context) # Secure the connection\n",
    "    server.ehlo() # Can be omitted\n",
    "    server.login(sender_email, password)\n",
    "    # TODO: Send email here\n",
    "except Exception as e:\n",
    "    # Print any error messages to stdout\n",
    "    print(e)\n",
    "finally:\n",
    "    server.quit()\n",
    "    \n",
    "    \n",
    "#define buy and sell thresholds for bitcoin\n",
    "buy_tresh = 6500\n",
    "sell_tresh = 6500\n",
    "#get bitcoin price\n",
    "btc_sell_price = Bitfinex().get_current_bid()\n",
    "btc_buy_price = Bitfinex().get_current_ask()\n",
    "\n",
    "if btc_buy_price > buy_tresh:\n",
    "    email_msg = \"Bitcoin buy Price is %s Wich is lower than treshold price of %s\" % (btc_buy_price, buy_tresh)\n",
    "    trigger_email(email_msg)\n",
    "    server.sendmail(sender_email, receiver_email, email_msg)   "
   ]
  },
  {
   "cell_type": "code",
   "execution_count": 1,
   "id": "719edee9",
   "metadata": {},
   "outputs": [
    {
     "ename": "SMTPAuthenticationError",
     "evalue": "(535, b'5.7.8 Username and Password not accepted. Learn more at\\n5.7.8  https://support.google.com/mail/?p=BadCredentials e17sm5055041wrr.34 - gsmtp')",
     "output_type": "error",
     "traceback": [
      "\u001b[1;31m---------------------------------------------------------------------------\u001b[0m",
      "\u001b[1;31mSMTPAuthenticationError\u001b[0m                   Traceback (most recent call last)",
      "\u001b[1;32m<ipython-input-1-5966d41023fb>\u001b[0m in \u001b[0;36m<module>\u001b[1;34m\u001b[0m\n\u001b[0;32m     17\u001b[0m     \u001b[0mserver\u001b[0m\u001b[1;33m.\u001b[0m\u001b[0mstarttls\u001b[0m\u001b[1;33m(\u001b[0m\u001b[0mcontext\u001b[0m\u001b[1;33m=\u001b[0m\u001b[0mcontext\u001b[0m\u001b[1;33m)\u001b[0m\u001b[1;33m\u001b[0m\u001b[1;33m\u001b[0m\u001b[0m\n\u001b[0;32m     18\u001b[0m     \u001b[0mserver\u001b[0m\u001b[1;33m.\u001b[0m\u001b[0mehlo\u001b[0m\u001b[1;33m(\u001b[0m\u001b[1;33m)\u001b[0m  \u001b[1;31m# Can be omitted\u001b[0m\u001b[1;33m\u001b[0m\u001b[1;33m\u001b[0m\u001b[0m\n\u001b[1;32m---> 19\u001b[1;33m     \u001b[0mserver\u001b[0m\u001b[1;33m.\u001b[0m\u001b[0mlogin\u001b[0m\u001b[1;33m(\u001b[0m\u001b[0msender_email\u001b[0m\u001b[1;33m,\u001b[0m \u001b[0mpassword\u001b[0m\u001b[1;33m)\u001b[0m\u001b[1;33m\u001b[0m\u001b[1;33m\u001b[0m\u001b[0m\n\u001b[0m\u001b[0;32m     20\u001b[0m     \u001b[0mserver\u001b[0m\u001b[1;33m.\u001b[0m\u001b[0msendmail\u001b[0m\u001b[1;33m(\u001b[0m\u001b[0msender_email\u001b[0m\u001b[1;33m,\u001b[0m \u001b[0mreceiver_email\u001b[0m\u001b[1;33m,\u001b[0m \u001b[0mmessage\u001b[0m\u001b[1;33m)\u001b[0m\u001b[1;33m\u001b[0m\u001b[1;33m\u001b[0m\u001b[0m\n",
      "\u001b[1;32m~\\anaconda3\\lib\\smtplib.py\u001b[0m in \u001b[0;36mlogin\u001b[1;34m(self, user, password, initial_response_ok)\u001b[0m\n\u001b[0;32m    730\u001b[0m \u001b[1;33m\u001b[0m\u001b[0m\n\u001b[0;32m    731\u001b[0m         \u001b[1;31m# We could not login successfully.  Return result of last attempt.\u001b[0m\u001b[1;33m\u001b[0m\u001b[1;33m\u001b[0m\u001b[1;33m\u001b[0m\u001b[0m\n\u001b[1;32m--> 732\u001b[1;33m         \u001b[1;32mraise\u001b[0m \u001b[0mlast_exception\u001b[0m\u001b[1;33m\u001b[0m\u001b[1;33m\u001b[0m\u001b[0m\n\u001b[0m\u001b[0;32m    733\u001b[0m \u001b[1;33m\u001b[0m\u001b[0m\n\u001b[0;32m    734\u001b[0m     \u001b[1;32mdef\u001b[0m \u001b[0mstarttls\u001b[0m\u001b[1;33m(\u001b[0m\u001b[0mself\u001b[0m\u001b[1;33m,\u001b[0m \u001b[0mkeyfile\u001b[0m\u001b[1;33m=\u001b[0m\u001b[1;32mNone\u001b[0m\u001b[1;33m,\u001b[0m \u001b[0mcertfile\u001b[0m\u001b[1;33m=\u001b[0m\u001b[1;32mNone\u001b[0m\u001b[1;33m,\u001b[0m \u001b[0mcontext\u001b[0m\u001b[1;33m=\u001b[0m\u001b[1;32mNone\u001b[0m\u001b[1;33m)\u001b[0m\u001b[1;33m:\u001b[0m\u001b[1;33m\u001b[0m\u001b[1;33m\u001b[0m\u001b[0m\n",
      "\u001b[1;32m~\\anaconda3\\lib\\smtplib.py\u001b[0m in \u001b[0;36mlogin\u001b[1;34m(self, user, password, initial_response_ok)\u001b[0m\n\u001b[0;32m    719\u001b[0m             \u001b[0mmethod_name\u001b[0m \u001b[1;33m=\u001b[0m \u001b[1;34m'auth_'\u001b[0m \u001b[1;33m+\u001b[0m \u001b[0mauthmethod\u001b[0m\u001b[1;33m.\u001b[0m\u001b[0mlower\u001b[0m\u001b[1;33m(\u001b[0m\u001b[1;33m)\u001b[0m\u001b[1;33m.\u001b[0m\u001b[0mreplace\u001b[0m\u001b[1;33m(\u001b[0m\u001b[1;34m'-'\u001b[0m\u001b[1;33m,\u001b[0m \u001b[1;34m'_'\u001b[0m\u001b[1;33m)\u001b[0m\u001b[1;33m\u001b[0m\u001b[1;33m\u001b[0m\u001b[0m\n\u001b[0;32m    720\u001b[0m             \u001b[1;32mtry\u001b[0m\u001b[1;33m:\u001b[0m\u001b[1;33m\u001b[0m\u001b[1;33m\u001b[0m\u001b[0m\n\u001b[1;32m--> 721\u001b[1;33m                 (code, resp) = self.auth(\n\u001b[0m\u001b[0;32m    722\u001b[0m                     \u001b[0mauthmethod\u001b[0m\u001b[1;33m,\u001b[0m \u001b[0mgetattr\u001b[0m\u001b[1;33m(\u001b[0m\u001b[0mself\u001b[0m\u001b[1;33m,\u001b[0m \u001b[0mmethod_name\u001b[0m\u001b[1;33m)\u001b[0m\u001b[1;33m,\u001b[0m\u001b[1;33m\u001b[0m\u001b[1;33m\u001b[0m\u001b[0m\n\u001b[0;32m    723\u001b[0m                     initial_response_ok=initial_response_ok)\n",
      "\u001b[1;32m~\\anaconda3\\lib\\smtplib.py\u001b[0m in \u001b[0;36mauth\u001b[1;34m(self, mechanism, authobject, initial_response_ok)\u001b[0m\n\u001b[0;32m    642\u001b[0m         \u001b[1;32mif\u001b[0m \u001b[0mcode\u001b[0m \u001b[1;32min\u001b[0m \u001b[1;33m(\u001b[0m\u001b[1;36m235\u001b[0m\u001b[1;33m,\u001b[0m \u001b[1;36m503\u001b[0m\u001b[1;33m)\u001b[0m\u001b[1;33m:\u001b[0m\u001b[1;33m\u001b[0m\u001b[1;33m\u001b[0m\u001b[0m\n\u001b[0;32m    643\u001b[0m             \u001b[1;32mreturn\u001b[0m \u001b[1;33m(\u001b[0m\u001b[0mcode\u001b[0m\u001b[1;33m,\u001b[0m \u001b[0mresp\u001b[0m\u001b[1;33m)\u001b[0m\u001b[1;33m\u001b[0m\u001b[1;33m\u001b[0m\u001b[0m\n\u001b[1;32m--> 644\u001b[1;33m         \u001b[1;32mraise\u001b[0m \u001b[0mSMTPAuthenticationError\u001b[0m\u001b[1;33m(\u001b[0m\u001b[0mcode\u001b[0m\u001b[1;33m,\u001b[0m \u001b[0mresp\u001b[0m\u001b[1;33m)\u001b[0m\u001b[1;33m\u001b[0m\u001b[1;33m\u001b[0m\u001b[0m\n\u001b[0m\u001b[0;32m    645\u001b[0m \u001b[1;33m\u001b[0m\u001b[0m\n\u001b[0;32m    646\u001b[0m     \u001b[1;32mdef\u001b[0m \u001b[0mauth_cram_md5\u001b[0m\u001b[1;33m(\u001b[0m\u001b[0mself\u001b[0m\u001b[1;33m,\u001b[0m \u001b[0mchallenge\u001b[0m\u001b[1;33m=\u001b[0m\u001b[1;32mNone\u001b[0m\u001b[1;33m)\u001b[0m\u001b[1;33m:\u001b[0m\u001b[1;33m\u001b[0m\u001b[1;33m\u001b[0m\u001b[0m\n",
      "\u001b[1;31mSMTPAuthenticationError\u001b[0m: (535, b'5.7.8 Username and Password not accepted. Learn more at\\n5.7.8  https://support.google.com/mail/?p=BadCredentials e17sm5055041wrr.34 - gsmtp')"
     ]
    }
   ],
   "source": [
    "import smtplib, ssl\n",
    "\n",
    "port = 587  # For starttls\n",
    "smtp_server = \"smtp.gmail.com\"\n",
    "port = 587  # For starttls\n",
    "sender_email = \"kindudimandiangu@gmail.com\"\n",
    "password = \"calculIntegrale\"\n",
    "receiver_email = \"kindudiisra@gmail.com\"\n",
    "message = \"\"\"\\\n",
    "Subject: Hi there\n",
    "\n",
    "This message is sent from Python.\"\"\"\n",
    "\n",
    "context = ssl.create_default_context()\n",
    "with smtplib.SMTP(smtp_server, port) as server:\n",
    "    server.ehlo()  # Can be omitted\n",
    "    server.starttls(context=context)\n",
    "    server.ehlo()  # Can be omitted\n",
    "    server.login(sender_email, password)\n",
    "    server.sendmail(sender_email, receiver_email, message)"
   ]
  },
  {
   "cell_type": "code",
   "execution_count": 84,
   "id": "85e9133a",
   "metadata": {},
   "outputs": [],
   "source": [
    "import pandas as pd\n",
    "import matplotlib.pyplot as plt\n"
   ]
  },
  {
   "cell_type": "code",
   "execution_count": 85,
   "id": "c0364bee",
   "metadata": {},
   "outputs": [],
   "source": [
    "pd.options.mode.chained_assignment = None\n",
    "\n",
    "%matplotlib inline"
   ]
  },
  {
   "cell_type": "code",
   "execution_count": 86,
   "id": "a5960d35",
   "metadata": {},
   "outputs": [
    {
     "name": "stdout",
     "output_type": "stream",
     "text": [
      "<bound method NDFrame.head of     Currency        Date  Closing Price (USD)  24h Open (USD)  24h High (USD)  \\\n",
      "0        BTC  2021-01-15         39151.600000    37390.100000    40095.356333   \n",
      "1        BTC  2021-01-16         36764.500000    39151.600000    39675.827001   \n",
      "2        BTC  2021-01-17         36029.171468    36764.500000    37929.400000   \n",
      "3        BTC  2021-01-18         35816.400000    36027.266697    36839.864899   \n",
      "4        BTC  2021-01-19         36616.950000    35816.400000    37400.000000   \n",
      "..       ...         ...                  ...             ...             ...   \n",
      "360      BTC  2022-01-10         41861.803632    41687.020626    42786.700000   \n",
      "361      BTC  2022-01-11         41838.406280    41863.140231    42241.736467   \n",
      "362      BTC  2022-01-12         42737.637061    41837.225666    43106.047087   \n",
      "363      BTC  2022-01-13         43921.810000    42736.778968    44324.000000   \n",
      "364      BTC  2022-01-14         42558.937409    43920.614432    44418.700000   \n",
      "\n",
      "     24h Low (USD)  \n",
      "0     36770.000000  \n",
      "1     34406.400000  \n",
      "2     35400.000000  \n",
      "3     33864.600000  \n",
      "4     34790.830220  \n",
      "..             ...  \n",
      "360   41255.300000  \n",
      "361   39677.652134  \n",
      "362   41299.511552  \n",
      "363   42480.700000  \n",
      "364   42349.434153  \n",
      "\n",
      "[365 rows x 6 columns]>\n"
     ]
    }
   ],
   "source": [
    "price = pd.read_csv('C:/Users/user/Documents/BTC_USD_2021-01-15_2022-01-14-CoinDesk.csv')\n",
    "\n",
    "print(price.head)"
   ]
  },
  {
   "cell_type": "code",
   "execution_count": 87,
   "id": "18c6835a",
   "metadata": {},
   "outputs": [
    {
     "name": "stdout",
     "output_type": "stream",
     "text": [
      "<class 'pandas.core.frame.DataFrame'>\n",
      "RangeIndex: 365 entries, 0 to 364\n",
      "Data columns (total 6 columns):\n",
      " #   Column               Non-Null Count  Dtype  \n",
      "---  ------               --------------  -----  \n",
      " 0   Currency             365 non-null    object \n",
      " 1   Date                 365 non-null    object \n",
      " 2   Closing Price (USD)  365 non-null    float64\n",
      " 3   24h Open (USD)       365 non-null    float64\n",
      " 4   24h High (USD)       365 non-null    float64\n",
      " 5   24h Low (USD)        365 non-null    float64\n",
      "dtypes: float64(4), object(2)\n",
      "memory usage: 17.2+ KB\n"
     ]
    }
   ],
   "source": [
    "price.info()"
   ]
  },
  {
   "cell_type": "code",
   "execution_count": 88,
   "id": "41ad38a0",
   "metadata": {},
   "outputs": [
    {
     "data": {
      "text/html": [
       "<div>\n",
       "<style scoped>\n",
       "    .dataframe tbody tr th:only-of-type {\n",
       "        vertical-align: middle;\n",
       "    }\n",
       "\n",
       "    .dataframe tbody tr th {\n",
       "        vertical-align: top;\n",
       "    }\n",
       "\n",
       "    .dataframe thead th {\n",
       "        text-align: right;\n",
       "    }\n",
       "</style>\n",
       "<table border=\"1\" class=\"dataframe\">\n",
       "  <thead>\n",
       "    <tr style=\"text-align: right;\">\n",
       "      <th></th>\n",
       "      <th>Currency</th>\n",
       "      <th>Date</th>\n",
       "      <th>Closing Price (USD)</th>\n",
       "      <th>24h Open (USD)</th>\n",
       "      <th>24h High (USD)</th>\n",
       "      <th>24h Low (USD)</th>\n",
       "    </tr>\n",
       "  </thead>\n",
       "  <tbody>\n",
       "    <tr>\n",
       "      <th>360</th>\n",
       "      <td>BTC</td>\n",
       "      <td>2022-01-10</td>\n",
       "      <td>41861.803632</td>\n",
       "      <td>41687.020626</td>\n",
       "      <td>42786.700000</td>\n",
       "      <td>41255.300000</td>\n",
       "    </tr>\n",
       "    <tr>\n",
       "      <th>361</th>\n",
       "      <td>BTC</td>\n",
       "      <td>2022-01-11</td>\n",
       "      <td>41838.406280</td>\n",
       "      <td>41863.140231</td>\n",
       "      <td>42241.736467</td>\n",
       "      <td>39677.652134</td>\n",
       "    </tr>\n",
       "    <tr>\n",
       "      <th>362</th>\n",
       "      <td>BTC</td>\n",
       "      <td>2022-01-12</td>\n",
       "      <td>42737.637061</td>\n",
       "      <td>41837.225666</td>\n",
       "      <td>43106.047087</td>\n",
       "      <td>41299.511552</td>\n",
       "    </tr>\n",
       "    <tr>\n",
       "      <th>363</th>\n",
       "      <td>BTC</td>\n",
       "      <td>2022-01-13</td>\n",
       "      <td>43921.810000</td>\n",
       "      <td>42736.778968</td>\n",
       "      <td>44324.000000</td>\n",
       "      <td>42480.700000</td>\n",
       "    </tr>\n",
       "    <tr>\n",
       "      <th>364</th>\n",
       "      <td>BTC</td>\n",
       "      <td>2022-01-14</td>\n",
       "      <td>42558.937409</td>\n",
       "      <td>43920.614432</td>\n",
       "      <td>44418.700000</td>\n",
       "      <td>42349.434153</td>\n",
       "    </tr>\n",
       "  </tbody>\n",
       "</table>\n",
       "</div>"
      ],
      "text/plain": [
       "    Currency        Date  Closing Price (USD)  24h Open (USD)  24h High (USD)  \\\n",
       "360      BTC  2022-01-10         41861.803632    41687.020626    42786.700000   \n",
       "361      BTC  2022-01-11         41838.406280    41863.140231    42241.736467   \n",
       "362      BTC  2022-01-12         42737.637061    41837.225666    43106.047087   \n",
       "363      BTC  2022-01-13         43921.810000    42736.778968    44324.000000   \n",
       "364      BTC  2022-01-14         42558.937409    43920.614432    44418.700000   \n",
       "\n",
       "     24h Low (USD)  \n",
       "360   41255.300000  \n",
       "361   39677.652134  \n",
       "362   41299.511552  \n",
       "363   42480.700000  \n",
       "364   42349.434153  "
      ]
     },
     "execution_count": 88,
     "metadata": {},
     "output_type": "execute_result"
    }
   ],
   "source": [
    "price.tail()"
   ]
  },
  {
   "cell_type": "code",
   "execution_count": 89,
   "id": "f14e8051",
   "metadata": {},
   "outputs": [
    {
     "name": "stdout",
     "output_type": "stream",
     "text": [
      "0      2021-01-15\n",
      "1      2021-01-16\n",
      "2      2021-01-17\n",
      "3      2021-01-18\n",
      "4      2021-01-19\n",
      "          ...    \n",
      "360    2022-01-10\n",
      "361    2022-01-11\n",
      "362    2022-01-12\n",
      "363    2022-01-13\n",
      "364    2022-01-14\n",
      "Name: Date, Length: 365, dtype: object\n"
     ]
    }
   ],
   "source": [
    "print(price['Date'])"
   ]
  },
  {
   "cell_type": "code",
   "execution_count": 90,
   "id": "0f3ec50d",
   "metadata": {},
   "outputs": [],
   "source": [
    "price['Date'] =pd.to_datetime(price['Date'], format = \"%Y-%m-%d\")"
   ]
  },
  {
   "cell_type": "code",
   "execution_count": 91,
   "id": "b5c72b03",
   "metadata": {},
   "outputs": [
    {
     "name": "stdout",
     "output_type": "stream",
     "text": [
      "0     2021-01-15\n",
      "1     2021-01-16\n",
      "2     2021-01-17\n",
      "3     2021-01-18\n",
      "4     2021-01-19\n",
      "         ...    \n",
      "360   2022-01-10\n",
      "361   2022-01-11\n",
      "362   2022-01-12\n",
      "363   2022-01-13\n",
      "364   2022-01-14\n",
      "Name: Date, Length: 365, dtype: datetime64[ns]\n"
     ]
    }
   ],
   "source": [
    "print(price['Date'])"
   ]
  },
  {
   "cell_type": "code",
   "execution_count": 93,
   "id": "29b7dd0d",
   "metadata": {},
   "outputs": [],
   "source": [
    "price.index = price['Date']"
   ]
  },
  {
   "cell_type": "code",
   "execution_count": 94,
   "id": "0828b091",
   "metadata": {},
   "outputs": [
    {
     "name": "stdout",
     "output_type": "stream",
     "text": [
      "           Currency       Date  Closing Price (USD)  24h Open (USD)  \\\n",
      "Date                                                                  \n",
      "2021-01-15      BTC 2021-01-15         39151.600000    37390.100000   \n",
      "2021-01-16      BTC 2021-01-16         36764.500000    39151.600000   \n",
      "2021-01-17      BTC 2021-01-17         36029.171468    36764.500000   \n",
      "2021-01-18      BTC 2021-01-18         35816.400000    36027.266697   \n",
      "2021-01-19      BTC 2021-01-19         36616.950000    35816.400000   \n",
      "...             ...        ...                  ...             ...   \n",
      "2022-01-10      BTC 2022-01-10         41861.803632    41687.020626   \n",
      "2022-01-11      BTC 2022-01-11         41838.406280    41863.140231   \n",
      "2022-01-12      BTC 2022-01-12         42737.637061    41837.225666   \n",
      "2022-01-13      BTC 2022-01-13         43921.810000    42736.778968   \n",
      "2022-01-14      BTC 2022-01-14         42558.937409    43920.614432   \n",
      "\n",
      "            24h High (USD)  24h Low (USD)  \n",
      "Date                                       \n",
      "2021-01-15    40095.356333   36770.000000  \n",
      "2021-01-16    39675.827001   34406.400000  \n",
      "2021-01-17    37929.400000   35400.000000  \n",
      "2021-01-18    36839.864899   33864.600000  \n",
      "2021-01-19    37400.000000   34790.830220  \n",
      "...                    ...            ...  \n",
      "2022-01-10    42786.700000   41255.300000  \n",
      "2022-01-11    42241.736467   39677.652134  \n",
      "2022-01-12    43106.047087   41299.511552  \n",
      "2022-01-13    44324.000000   42480.700000  \n",
      "2022-01-14    44418.700000   42349.434153  \n",
      "\n",
      "[365 rows x 6 columns]\n"
     ]
    }
   ],
   "source": [
    "print(price)"
   ]
  },
  {
   "cell_type": "code",
   "execution_count": 95,
   "id": "3ff916a8",
   "metadata": {},
   "outputs": [],
   "source": [
    "del price['Date']"
   ]
  },
  {
   "cell_type": "code",
   "execution_count": 96,
   "id": "ce83f5f1",
   "metadata": {},
   "outputs": [
    {
     "name": "stdout",
     "output_type": "stream",
     "text": [
      "<bound method NDFrame.head of            Currency  Closing Price (USD)  24h Open (USD)  24h High (USD)  \\\n",
      "Date                                                                       \n",
      "2021-01-15      BTC         39151.600000    37390.100000    40095.356333   \n",
      "2021-01-16      BTC         36764.500000    39151.600000    39675.827001   \n",
      "2021-01-17      BTC         36029.171468    36764.500000    37929.400000   \n",
      "2021-01-18      BTC         35816.400000    36027.266697    36839.864899   \n",
      "2021-01-19      BTC         36616.950000    35816.400000    37400.000000   \n",
      "...             ...                  ...             ...             ...   \n",
      "2022-01-10      BTC         41861.803632    41687.020626    42786.700000   \n",
      "2022-01-11      BTC         41838.406280    41863.140231    42241.736467   \n",
      "2022-01-12      BTC         42737.637061    41837.225666    43106.047087   \n",
      "2022-01-13      BTC         43921.810000    42736.778968    44324.000000   \n",
      "2022-01-14      BTC         42558.937409    43920.614432    44418.700000   \n",
      "\n",
      "            24h Low (USD)  \n",
      "Date                       \n",
      "2021-01-15   36770.000000  \n",
      "2021-01-16   34406.400000  \n",
      "2021-01-17   35400.000000  \n",
      "2021-01-18   33864.600000  \n",
      "2021-01-19   34790.830220  \n",
      "...                   ...  \n",
      "2022-01-10   41255.300000  \n",
      "2022-01-11   39677.652134  \n",
      "2022-01-12   41299.511552  \n",
      "2022-01-13   42480.700000  \n",
      "2022-01-14   42349.434153  \n",
      "\n",
      "[365 rows x 5 columns]>\n"
     ]
    }
   ],
   "source": [
    "print(price.head)"
   ]
  },
  {
   "cell_type": "code",
   "execution_count": 97,
   "id": "84709bc7",
   "metadata": {},
   "outputs": [
    {
     "name": "stderr",
     "output_type": "stream",
     "text": [
      "<ipython-input-97-66a143ff67ed>:1: FutureWarning: Indexing a DataFrame with a datetimelike index using a single string to slice the rows, like `frame[string]`, is deprecated and will be removed in a future version. Use `frame.loc[string]` instead.\n",
      "  price['2022']\n"
     ]
    },
    {
     "data": {
      "text/html": [
       "<div>\n",
       "<style scoped>\n",
       "    .dataframe tbody tr th:only-of-type {\n",
       "        vertical-align: middle;\n",
       "    }\n",
       "\n",
       "    .dataframe tbody tr th {\n",
       "        vertical-align: top;\n",
       "    }\n",
       "\n",
       "    .dataframe thead th {\n",
       "        text-align: right;\n",
       "    }\n",
       "</style>\n",
       "<table border=\"1\" class=\"dataframe\">\n",
       "  <thead>\n",
       "    <tr style=\"text-align: right;\">\n",
       "      <th></th>\n",
       "      <th>Currency</th>\n",
       "      <th>Closing Price (USD)</th>\n",
       "      <th>24h Open (USD)</th>\n",
       "      <th>24h High (USD)</th>\n",
       "      <th>24h Low (USD)</th>\n",
       "    </tr>\n",
       "    <tr>\n",
       "      <th>Date</th>\n",
       "      <th></th>\n",
       "      <th></th>\n",
       "      <th></th>\n",
       "      <th></th>\n",
       "      <th></th>\n",
       "    </tr>\n",
       "  </thead>\n",
       "  <tbody>\n",
       "    <tr>\n",
       "      <th>2022-01-01</th>\n",
       "      <td>BTC</td>\n",
       "      <td>46208.210437</td>\n",
       "      <td>47127.968178</td>\n",
       "      <td>48570.092839</td>\n",
       "      <td>45663.350000</td>\n",
       "    </tr>\n",
       "    <tr>\n",
       "      <th>2022-01-02</th>\n",
       "      <td>BTC</td>\n",
       "      <td>47739.420026</td>\n",
       "      <td>46207.405965</td>\n",
       "      <td>47927.865564</td>\n",
       "      <td>46205.113033</td>\n",
       "    </tr>\n",
       "    <tr>\n",
       "      <th>2022-01-03</th>\n",
       "      <td>BTC</td>\n",
       "      <td>47317.947964</td>\n",
       "      <td>47738.764099</td>\n",
       "      <td>47957.233810</td>\n",
       "      <td>46701.400000</td>\n",
       "    </tr>\n",
       "    <tr>\n",
       "      <th>2022-01-04</th>\n",
       "      <td>BTC</td>\n",
       "      <td>46434.508081</td>\n",
       "      <td>47316.178587</td>\n",
       "      <td>47567.200000</td>\n",
       "      <td>45717.500000</td>\n",
       "    </tr>\n",
       "    <tr>\n",
       "      <th>2022-01-05</th>\n",
       "      <td>BTC</td>\n",
       "      <td>45837.130344</td>\n",
       "      <td>46436.125952</td>\n",
       "      <td>47501.971144</td>\n",
       "      <td>45568.600000</td>\n",
       "    </tr>\n",
       "    <tr>\n",
       "      <th>2022-01-06</th>\n",
       "      <td>BTC</td>\n",
       "      <td>43428.699545</td>\n",
       "      <td>45836.905984</td>\n",
       "      <td>47058.500000</td>\n",
       "      <td>42503.880401</td>\n",
       "    </tr>\n",
       "    <tr>\n",
       "      <th>2022-01-07</th>\n",
       "      <td>BTC</td>\n",
       "      <td>43107.257821</td>\n",
       "      <td>43432.053752</td>\n",
       "      <td>43753.492230</td>\n",
       "      <td>42435.402000</td>\n",
       "    </tr>\n",
       "    <tr>\n",
       "      <th>2022-01-08</th>\n",
       "      <td>BTC</td>\n",
       "      <td>41534.350712</td>\n",
       "      <td>43106.487593</td>\n",
       "      <td>43129.826810</td>\n",
       "      <td>40745.702117</td>\n",
       "    </tr>\n",
       "    <tr>\n",
       "      <th>2022-01-09</th>\n",
       "      <td>BTC</td>\n",
       "      <td>41687.227593</td>\n",
       "      <td>41535.495343</td>\n",
       "      <td>42308.143821</td>\n",
       "      <td>40562.490000</td>\n",
       "    </tr>\n",
       "    <tr>\n",
       "      <th>2022-01-10</th>\n",
       "      <td>BTC</td>\n",
       "      <td>41861.803632</td>\n",
       "      <td>41687.020626</td>\n",
       "      <td>42786.700000</td>\n",
       "      <td>41255.300000</td>\n",
       "    </tr>\n",
       "    <tr>\n",
       "      <th>2022-01-11</th>\n",
       "      <td>BTC</td>\n",
       "      <td>41838.406280</td>\n",
       "      <td>41863.140231</td>\n",
       "      <td>42241.736467</td>\n",
       "      <td>39677.652134</td>\n",
       "    </tr>\n",
       "    <tr>\n",
       "      <th>2022-01-12</th>\n",
       "      <td>BTC</td>\n",
       "      <td>42737.637061</td>\n",
       "      <td>41837.225666</td>\n",
       "      <td>43106.047087</td>\n",
       "      <td>41299.511552</td>\n",
       "    </tr>\n",
       "    <tr>\n",
       "      <th>2022-01-13</th>\n",
       "      <td>BTC</td>\n",
       "      <td>43921.810000</td>\n",
       "      <td>42736.778968</td>\n",
       "      <td>44324.000000</td>\n",
       "      <td>42480.700000</td>\n",
       "    </tr>\n",
       "    <tr>\n",
       "      <th>2022-01-14</th>\n",
       "      <td>BTC</td>\n",
       "      <td>42558.937409</td>\n",
       "      <td>43920.614432</td>\n",
       "      <td>44418.700000</td>\n",
       "      <td>42349.434153</td>\n",
       "    </tr>\n",
       "  </tbody>\n",
       "</table>\n",
       "</div>"
      ],
      "text/plain": [
       "           Currency  Closing Price (USD)  24h Open (USD)  24h High (USD)  \\\n",
       "Date                                                                       \n",
       "2022-01-01      BTC         46208.210437    47127.968178    48570.092839   \n",
       "2022-01-02      BTC         47739.420026    46207.405965    47927.865564   \n",
       "2022-01-03      BTC         47317.947964    47738.764099    47957.233810   \n",
       "2022-01-04      BTC         46434.508081    47316.178587    47567.200000   \n",
       "2022-01-05      BTC         45837.130344    46436.125952    47501.971144   \n",
       "2022-01-06      BTC         43428.699545    45836.905984    47058.500000   \n",
       "2022-01-07      BTC         43107.257821    43432.053752    43753.492230   \n",
       "2022-01-08      BTC         41534.350712    43106.487593    43129.826810   \n",
       "2022-01-09      BTC         41687.227593    41535.495343    42308.143821   \n",
       "2022-01-10      BTC         41861.803632    41687.020626    42786.700000   \n",
       "2022-01-11      BTC         41838.406280    41863.140231    42241.736467   \n",
       "2022-01-12      BTC         42737.637061    41837.225666    43106.047087   \n",
       "2022-01-13      BTC         43921.810000    42736.778968    44324.000000   \n",
       "2022-01-14      BTC         42558.937409    43920.614432    44418.700000   \n",
       "\n",
       "            24h Low (USD)  \n",
       "Date                       \n",
       "2022-01-01   45663.350000  \n",
       "2022-01-02   46205.113033  \n",
       "2022-01-03   46701.400000  \n",
       "2022-01-04   45717.500000  \n",
       "2022-01-05   45568.600000  \n",
       "2022-01-06   42503.880401  \n",
       "2022-01-07   42435.402000  \n",
       "2022-01-08   40745.702117  \n",
       "2022-01-09   40562.490000  \n",
       "2022-01-10   41255.300000  \n",
       "2022-01-11   39677.652134  \n",
       "2022-01-12   41299.511552  \n",
       "2022-01-13   42480.700000  \n",
       "2022-01-14   42349.434153  "
      ]
     },
     "execution_count": 97,
     "metadata": {},
     "output_type": "execute_result"
    }
   ],
   "source": [
    "price['2022']"
   ]
  },
  {
   "cell_type": "code",
   "execution_count": 98,
   "id": "853e482d",
   "metadata": {},
   "outputs": [
    {
     "name": "stderr",
     "output_type": "stream",
     "text": [
      "<ipython-input-98-cb0c7db2cab1>:1: FutureWarning: Indexing a DataFrame with a datetimelike index using a single string to slice the rows, like `frame[string]`, is deprecated and will be removed in a future version. Use `frame.loc[string]` instead.\n",
      "  price['2021-02']\n"
     ]
    },
    {
     "data": {
      "text/html": [
       "<div>\n",
       "<style scoped>\n",
       "    .dataframe tbody tr th:only-of-type {\n",
       "        vertical-align: middle;\n",
       "    }\n",
       "\n",
       "    .dataframe tbody tr th {\n",
       "        vertical-align: top;\n",
       "    }\n",
       "\n",
       "    .dataframe thead th {\n",
       "        text-align: right;\n",
       "    }\n",
       "</style>\n",
       "<table border=\"1\" class=\"dataframe\">\n",
       "  <thead>\n",
       "    <tr style=\"text-align: right;\">\n",
       "      <th></th>\n",
       "      <th>Currency</th>\n",
       "      <th>Closing Price (USD)</th>\n",
       "      <th>24h Open (USD)</th>\n",
       "      <th>24h High (USD)</th>\n",
       "      <th>24h Low (USD)</th>\n",
       "    </tr>\n",
       "    <tr>\n",
       "      <th>Date</th>\n",
       "      <th></th>\n",
       "      <th></th>\n",
       "      <th></th>\n",
       "      <th></th>\n",
       "      <th></th>\n",
       "    </tr>\n",
       "  </thead>\n",
       "  <tbody>\n",
       "    <tr>\n",
       "      <th>2021-02-01</th>\n",
       "      <td>BTC</td>\n",
       "      <td>33138.745496</td>\n",
       "      <td>34312.337870</td>\n",
       "      <td>34368.013572</td>\n",
       "      <td>32214.100000</td>\n",
       "    </tr>\n",
       "    <tr>\n",
       "      <th>2021-02-02</th>\n",
       "      <td>BTC</td>\n",
       "      <td>33533.900000</td>\n",
       "      <td>33138.515910</td>\n",
       "      <td>34702.901822</td>\n",
       "      <td>32344.100000</td>\n",
       "    </tr>\n",
       "    <tr>\n",
       "      <th>2021-02-03</th>\n",
       "      <td>BTC</td>\n",
       "      <td>35514.809100</td>\n",
       "      <td>33533.900000</td>\n",
       "      <td>36000.000000</td>\n",
       "      <td>33458.383640</td>\n",
       "    </tr>\n",
       "    <tr>\n",
       "      <th>2021-02-04</th>\n",
       "      <td>BTC</td>\n",
       "      <td>37692.000000</td>\n",
       "      <td>35515.168781</td>\n",
       "      <td>37703.620477</td>\n",
       "      <td>35407.400000</td>\n",
       "    </tr>\n",
       "    <tr>\n",
       "      <th>2021-02-05</th>\n",
       "      <td>BTC</td>\n",
       "      <td>36995.561559</td>\n",
       "      <td>37692.000000</td>\n",
       "      <td>38736.892176</td>\n",
       "      <td>36212.690000</td>\n",
       "    </tr>\n",
       "    <tr>\n",
       "      <th>2021-02-06</th>\n",
       "      <td>BTC</td>\n",
       "      <td>38310.500000</td>\n",
       "      <td>36995.227970</td>\n",
       "      <td>38340.229867</td>\n",
       "      <td>36630.980000</td>\n",
       "    </tr>\n",
       "    <tr>\n",
       "      <th>2021-02-07</th>\n",
       "      <td>BTC</td>\n",
       "      <td>39282.100000</td>\n",
       "      <td>38319.891134</td>\n",
       "      <td>40995.149745</td>\n",
       "      <td>38260.500000</td>\n",
       "    </tr>\n",
       "    <tr>\n",
       "      <th>2021-02-08</th>\n",
       "      <td>BTC</td>\n",
       "      <td>38876.500000</td>\n",
       "      <td>39282.100000</td>\n",
       "      <td>39710.285649</td>\n",
       "      <td>37416.183665</td>\n",
       "    </tr>\n",
       "    <tr>\n",
       "      <th>2021-02-09</th>\n",
       "      <td>BTC</td>\n",
       "      <td>46438.877990</td>\n",
       "      <td>38884.452002</td>\n",
       "      <td>46689.000000</td>\n",
       "      <td>38075.000000</td>\n",
       "    </tr>\n",
       "    <tr>\n",
       "      <th>2021-02-10</th>\n",
       "      <td>BTC</td>\n",
       "      <td>46527.000000</td>\n",
       "      <td>46437.434239</td>\n",
       "      <td>48200.000000</td>\n",
       "      <td>45055.700000</td>\n",
       "    </tr>\n",
       "    <tr>\n",
       "      <th>2021-02-11</th>\n",
       "      <td>BTC</td>\n",
       "      <td>44870.000000</td>\n",
       "      <td>46514.730000</td>\n",
       "      <td>47339.800000</td>\n",
       "      <td>43761.480000</td>\n",
       "    </tr>\n",
       "    <tr>\n",
       "      <th>2021-02-12</th>\n",
       "      <td>BTC</td>\n",
       "      <td>48005.261560</td>\n",
       "      <td>44857.500000</td>\n",
       "      <td>48682.540000</td>\n",
       "      <td>44050.100000</td>\n",
       "    </tr>\n",
       "    <tr>\n",
       "      <th>2021-02-13</th>\n",
       "      <td>BTC</td>\n",
       "      <td>47432.705766</td>\n",
       "      <td>48004.916445</td>\n",
       "      <td>48907.621422</td>\n",
       "      <td>46290.703186</td>\n",
       "    </tr>\n",
       "    <tr>\n",
       "      <th>2021-02-14</th>\n",
       "      <td>BTC</td>\n",
       "      <td>47215.517268</td>\n",
       "      <td>47430.407005</td>\n",
       "      <td>48195.280000</td>\n",
       "      <td>46300.000000</td>\n",
       "    </tr>\n",
       "    <tr>\n",
       "      <th>2021-02-15</th>\n",
       "      <td>BTC</td>\n",
       "      <td>48673.343380</td>\n",
       "      <td>47217.030560</td>\n",
       "      <td>49699.800000</td>\n",
       "      <td>47115.100000</td>\n",
       "    </tr>\n",
       "    <tr>\n",
       "      <th>2021-02-16</th>\n",
       "      <td>BTC</td>\n",
       "      <td>47942.570000</td>\n",
       "      <td>48672.056127</td>\n",
       "      <td>49026.500000</td>\n",
       "      <td>45902.400764</td>\n",
       "    </tr>\n",
       "    <tr>\n",
       "      <th>2021-02-17</th>\n",
       "      <td>BTC</td>\n",
       "      <td>49166.530000</td>\n",
       "      <td>47942.570000</td>\n",
       "      <td>50563.500000</td>\n",
       "      <td>47073.610000</td>\n",
       "    </tr>\n",
       "    <tr>\n",
       "      <th>2021-02-18</th>\n",
       "      <td>BTC</td>\n",
       "      <td>52132.086774</td>\n",
       "      <td>49165.040963</td>\n",
       "      <td>52619.778190</td>\n",
       "      <td>48973.185525</td>\n",
       "    </tr>\n",
       "    <tr>\n",
       "      <th>2021-02-19</th>\n",
       "      <td>BTC</td>\n",
       "      <td>51600.900000</td>\n",
       "      <td>52135.034232</td>\n",
       "      <td>52547.000000</td>\n",
       "      <td>50896.610558</td>\n",
       "    </tr>\n",
       "    <tr>\n",
       "      <th>2021-02-20</th>\n",
       "      <td>BTC</td>\n",
       "      <td>55947.905479</td>\n",
       "      <td>51601.730000</td>\n",
       "      <td>56318.100000</td>\n",
       "      <td>50774.500000</td>\n",
       "    </tr>\n",
       "    <tr>\n",
       "      <th>2021-02-21</th>\n",
       "      <td>BTC</td>\n",
       "      <td>55980.732876</td>\n",
       "      <td>55948.159347</td>\n",
       "      <td>57535.892554</td>\n",
       "      <td>54068.911322</td>\n",
       "    </tr>\n",
       "    <tr>\n",
       "      <th>2021-02-22</th>\n",
       "      <td>BTC</td>\n",
       "      <td>57492.185619</td>\n",
       "      <td>55946.000000</td>\n",
       "      <td>58353.777175</td>\n",
       "      <td>55564.543579</td>\n",
       "    </tr>\n",
       "    <tr>\n",
       "      <th>2021-02-23</th>\n",
       "      <td>BTC</td>\n",
       "      <td>54147.641321</td>\n",
       "      <td>57492.185145</td>\n",
       "      <td>57564.190000</td>\n",
       "      <td>47319.725311</td>\n",
       "    </tr>\n",
       "    <tr>\n",
       "      <th>2021-02-24</th>\n",
       "      <td>BTC</td>\n",
       "      <td>48902.980452</td>\n",
       "      <td>54148.040511</td>\n",
       "      <td>54168.840000</td>\n",
       "      <td>44982.404844</td>\n",
       "    </tr>\n",
       "    <tr>\n",
       "      <th>2021-02-25</th>\n",
       "      <td>BTC</td>\n",
       "      <td>49736.637676</td>\n",
       "      <td>48902.635170</td>\n",
       "      <td>51409.140000</td>\n",
       "      <td>47031.470000</td>\n",
       "    </tr>\n",
       "    <tr>\n",
       "      <th>2021-02-26</th>\n",
       "      <td>BTC</td>\n",
       "      <td>47078.682328</td>\n",
       "      <td>49737.021658</td>\n",
       "      <td>52067.970000</td>\n",
       "      <td>46737.500000</td>\n",
       "    </tr>\n",
       "    <tr>\n",
       "      <th>2021-02-27</th>\n",
       "      <td>BTC</td>\n",
       "      <td>46322.480000</td>\n",
       "      <td>47083.095215</td>\n",
       "      <td>48449.000000</td>\n",
       "      <td>44153.010000</td>\n",
       "    </tr>\n",
       "    <tr>\n",
       "      <th>2021-02-28</th>\n",
       "      <td>BTC</td>\n",
       "      <td>46170.301647</td>\n",
       "      <td>46326.200000</td>\n",
       "      <td>48340.900000</td>\n",
       "      <td>45055.250000</td>\n",
       "    </tr>\n",
       "  </tbody>\n",
       "</table>\n",
       "</div>"
      ],
      "text/plain": [
       "           Currency  Closing Price (USD)  24h Open (USD)  24h High (USD)  \\\n",
       "Date                                                                       \n",
       "2021-02-01      BTC         33138.745496    34312.337870    34368.013572   \n",
       "2021-02-02      BTC         33533.900000    33138.515910    34702.901822   \n",
       "2021-02-03      BTC         35514.809100    33533.900000    36000.000000   \n",
       "2021-02-04      BTC         37692.000000    35515.168781    37703.620477   \n",
       "2021-02-05      BTC         36995.561559    37692.000000    38736.892176   \n",
       "2021-02-06      BTC         38310.500000    36995.227970    38340.229867   \n",
       "2021-02-07      BTC         39282.100000    38319.891134    40995.149745   \n",
       "2021-02-08      BTC         38876.500000    39282.100000    39710.285649   \n",
       "2021-02-09      BTC         46438.877990    38884.452002    46689.000000   \n",
       "2021-02-10      BTC         46527.000000    46437.434239    48200.000000   \n",
       "2021-02-11      BTC         44870.000000    46514.730000    47339.800000   \n",
       "2021-02-12      BTC         48005.261560    44857.500000    48682.540000   \n",
       "2021-02-13      BTC         47432.705766    48004.916445    48907.621422   \n",
       "2021-02-14      BTC         47215.517268    47430.407005    48195.280000   \n",
       "2021-02-15      BTC         48673.343380    47217.030560    49699.800000   \n",
       "2021-02-16      BTC         47942.570000    48672.056127    49026.500000   \n",
       "2021-02-17      BTC         49166.530000    47942.570000    50563.500000   \n",
       "2021-02-18      BTC         52132.086774    49165.040963    52619.778190   \n",
       "2021-02-19      BTC         51600.900000    52135.034232    52547.000000   \n",
       "2021-02-20      BTC         55947.905479    51601.730000    56318.100000   \n",
       "2021-02-21      BTC         55980.732876    55948.159347    57535.892554   \n",
       "2021-02-22      BTC         57492.185619    55946.000000    58353.777175   \n",
       "2021-02-23      BTC         54147.641321    57492.185145    57564.190000   \n",
       "2021-02-24      BTC         48902.980452    54148.040511    54168.840000   \n",
       "2021-02-25      BTC         49736.637676    48902.635170    51409.140000   \n",
       "2021-02-26      BTC         47078.682328    49737.021658    52067.970000   \n",
       "2021-02-27      BTC         46322.480000    47083.095215    48449.000000   \n",
       "2021-02-28      BTC         46170.301647    46326.200000    48340.900000   \n",
       "\n",
       "            24h Low (USD)  \n",
       "Date                       \n",
       "2021-02-01   32214.100000  \n",
       "2021-02-02   32344.100000  \n",
       "2021-02-03   33458.383640  \n",
       "2021-02-04   35407.400000  \n",
       "2021-02-05   36212.690000  \n",
       "2021-02-06   36630.980000  \n",
       "2021-02-07   38260.500000  \n",
       "2021-02-08   37416.183665  \n",
       "2021-02-09   38075.000000  \n",
       "2021-02-10   45055.700000  \n",
       "2021-02-11   43761.480000  \n",
       "2021-02-12   44050.100000  \n",
       "2021-02-13   46290.703186  \n",
       "2021-02-14   46300.000000  \n",
       "2021-02-15   47115.100000  \n",
       "2021-02-16   45902.400764  \n",
       "2021-02-17   47073.610000  \n",
       "2021-02-18   48973.185525  \n",
       "2021-02-19   50896.610558  \n",
       "2021-02-20   50774.500000  \n",
       "2021-02-21   54068.911322  \n",
       "2021-02-22   55564.543579  \n",
       "2021-02-23   47319.725311  \n",
       "2021-02-24   44982.404844  \n",
       "2021-02-25   47031.470000  \n",
       "2021-02-26   46737.500000  \n",
       "2021-02-27   44153.010000  \n",
       "2021-02-28   45055.250000  "
      ]
     },
     "execution_count": 98,
     "metadata": {},
     "output_type": "execute_result"
    }
   ],
   "source": [
    "price['2021-02']"
   ]
  },
  {
   "cell_type": "code",
   "execution_count": 99,
   "id": "3fcba405",
   "metadata": {},
   "outputs": [
    {
     "data": {
      "text/plain": [
       "Currency                        BTC\n",
       "Closing Price (USD)        29789.94\n",
       "24h Open (USD)         29792.581814\n",
       "24h High (USD)             31052.64\n",
       "24h Low (USD)              28801.46\n",
       "dtype: object"
      ]
     },
     "execution_count": 99,
     "metadata": {},
     "output_type": "execute_result"
    }
   ],
   "source": [
    "price.min()"
   ]
  },
  {
   "cell_type": "code",
   "execution_count": 31,
   "id": "859cb6cf",
   "metadata": {},
   "outputs": [
    {
     "data": {
      "text/html": [
       "<div>\n",
       "<style scoped>\n",
       "    .dataframe tbody tr th:only-of-type {\n",
       "        vertical-align: middle;\n",
       "    }\n",
       "\n",
       "    .dataframe tbody tr th {\n",
       "        vertical-align: top;\n",
       "    }\n",
       "\n",
       "    .dataframe thead th {\n",
       "        text-align: right;\n",
       "    }\n",
       "</style>\n",
       "<table border=\"1\" class=\"dataframe\">\n",
       "  <thead>\n",
       "    <tr style=\"text-align: right;\">\n",
       "      <th></th>\n",
       "      <th>Closing Price (USD)</th>\n",
       "      <th>24h Open (USD)</th>\n",
       "      <th>24h High (USD)</th>\n",
       "      <th>24h Low (USD)</th>\n",
       "    </tr>\n",
       "  </thead>\n",
       "  <tbody>\n",
       "    <tr>\n",
       "      <th>count</th>\n",
       "      <td>365.000000</td>\n",
       "      <td>365.000000</td>\n",
       "      <td>365.000000</td>\n",
       "      <td>365.000000</td>\n",
       "    </tr>\n",
       "    <tr>\n",
       "      <th>mean</th>\n",
       "      <td>47718.344787</td>\n",
       "      <td>47706.698506</td>\n",
       "      <td>49078.652947</td>\n",
       "      <td>46103.348673</td>\n",
       "    </tr>\n",
       "    <tr>\n",
       "      <th>std</th>\n",
       "      <td>9527.576978</td>\n",
       "      <td>9535.656558</td>\n",
       "      <td>9583.712187</td>\n",
       "      <td>9466.793387</td>\n",
       "    </tr>\n",
       "    <tr>\n",
       "      <th>min</th>\n",
       "      <td>29789.940000</td>\n",
       "      <td>29792.581814</td>\n",
       "      <td>31052.640000</td>\n",
       "      <td>28801.460000</td>\n",
       "    </tr>\n",
       "    <tr>\n",
       "      <th>25%</th>\n",
       "      <td>39282.100000</td>\n",
       "      <td>39211.597182</td>\n",
       "      <td>40627.694568</td>\n",
       "      <td>37527.900000</td>\n",
       "    </tr>\n",
       "    <tr>\n",
       "      <th>50%</th>\n",
       "      <td>47833.621120</td>\n",
       "      <td>47833.621735</td>\n",
       "      <td>49245.000000</td>\n",
       "      <td>46665.587219</td>\n",
       "    </tr>\n",
       "    <tr>\n",
       "      <th>75%</th>\n",
       "      <td>56273.378701</td>\n",
       "      <td>56272.769148</td>\n",
       "      <td>57768.000000</td>\n",
       "      <td>54111.700000</td>\n",
       "    </tr>\n",
       "    <tr>\n",
       "      <th>max</th>\n",
       "      <td>67553.948930</td>\n",
       "      <td>67554.840000</td>\n",
       "      <td>68990.900000</td>\n",
       "      <td>66316.000000</td>\n",
       "    </tr>\n",
       "  </tbody>\n",
       "</table>\n",
       "</div>"
      ],
      "text/plain": [
       "       Closing Price (USD)  24h Open (USD)  24h High (USD)  24h Low (USD)\n",
       "count           365.000000      365.000000      365.000000     365.000000\n",
       "mean          47718.344787    47706.698506    49078.652947   46103.348673\n",
       "std            9527.576978     9535.656558     9583.712187    9466.793387\n",
       "min           29789.940000    29792.581814    31052.640000   28801.460000\n",
       "25%           39282.100000    39211.597182    40627.694568   37527.900000\n",
       "50%           47833.621120    47833.621735    49245.000000   46665.587219\n",
       "75%           56273.378701    56272.769148    57768.000000   54111.700000\n",
       "max           67553.948930    67554.840000    68990.900000   66316.000000"
      ]
     },
     "execution_count": 31,
     "metadata": {},
     "output_type": "execute_result"
    }
   ],
   "source": [
    "price.describe()"
   ]
  },
  {
   "cell_type": "code",
   "execution_count": 100,
   "id": "4a36860c",
   "metadata": {},
   "outputs": [
    {
     "data": {
      "text/plain": [
       "<AxesSubplot:xlabel='Date'>"
      ]
     },
     "execution_count": 100,
     "metadata": {},
     "output_type": "execute_result"
    },
    {
     "data": {
      "image/png": "[encoded data removed]",
      "text/plain": [
       "<Figure size 432x288 with 1 Axes>"
      ]
     },
     "metadata": {
      "needs_background": "light"
     },
     "output_type": "display_data"
    }
   ],
   "source": [
    "price.plot()"
   ]
  },
  {
   "cell_type": "code",
   "execution_count": 114,
   "id": "47ebdf14",
   "metadata": {},
   "outputs": [
    {
     "name": "stderr",
     "output_type": "stream",
     "text": [
      "<ipython-input-114-415e0ce0590f>:1: FutureWarning: Indexing a DataFrame with a datetimelike index using a single string to slice the rows, like `frame[string]`, is deprecated and will be removed in a future version. Use `frame.loc[string]` instead.\n",
      "  price['2022'].plot()\n"
     ]
    },
    {
     "data": {
      "text/plain": [
       "<AxesSubplot:xlabel='Date'>"
      ]
     },
     "execution_count": 114,
     "metadata": {},
     "output_type": "execute_result"
    },
    {
     "data": {
      "image/png": "[encoded data removed]",
      "text/plain": [
       "<Figure size 432x288 with 1 Axes>"
      ]
     },
     "metadata": {
      "needs_background": "light"
     },
     "output_type": "display_data"
    }
   ],
   "source": [
    "price['2022'].plot()"
   ]
  },
  {
   "cell_type": "code",
   "execution_count": 102,
   "id": "19e33563",
   "metadata": {},
   "outputs": [
    {
     "name": "stderr",
     "output_type": "stream",
     "text": [
      "<ipython-input-102-415e0ce0590f>:1: FutureWarning: Indexing a DataFrame with a datetimelike index using a single string to slice the rows, like `frame[string]`, is deprecated and will be removed in a future version. Use `frame.loc[string]` instead.\n",
      "  price['2022'].plot()\n"
     ]
    },
    {
     "data": {
      "text/plain": [
       "<AxesSubplot:xlabel='Date'>"
      ]
     },
     "execution_count": 102,
     "metadata": {},
     "output_type": "execute_result"
    },
    {
     "data": {
      "image/png": "[encoded data removed]",
      "text/plain": [
       "<Figure size 432x288 with 1 Axes>"
      ]
     },
     "metadata": {
      "needs_background": "light"
     },
     "output_type": "display_data"
    }
   ],
   "source": [
    "price['2022'].plot()"
   ]
  },
  {
   "cell_type": "code",
   "execution_count": 35,
   "id": "0d6e33bd",
   "metadata": {},
   "outputs": [
    {
     "data": {
      "text/html": [
       "<div>\n",
       "<style scoped>\n",
       "    .dataframe tbody tr th:only-of-type {\n",
       "        vertical-align: middle;\n",
       "    }\n",
       "\n",
       "    .dataframe tbody tr th {\n",
       "        vertical-align: top;\n",
       "    }\n",
       "\n",
       "    .dataframe thead th {\n",
       "        text-align: right;\n",
       "    }\n",
       "</style>\n",
       "<table border=\"1\" class=\"dataframe\">\n",
       "  <thead>\n",
       "    <tr style=\"text-align: right;\">\n",
       "      <th></th>\n",
       "      <th>Currency</th>\n",
       "      <th>Closing Price (USD)</th>\n",
       "      <th>24h Open (USD)</th>\n",
       "      <th>24h High (USD)</th>\n",
       "      <th>24h Low (USD)</th>\n",
       "    </tr>\n",
       "    <tr>\n",
       "      <th>Date</th>\n",
       "      <th></th>\n",
       "      <th></th>\n",
       "      <th></th>\n",
       "      <th></th>\n",
       "      <th></th>\n",
       "    </tr>\n",
       "  </thead>\n",
       "  <tbody>\n",
       "    <tr>\n",
       "      <th>2021-01-15</th>\n",
       "      <td>BTC</td>\n",
       "      <td>39151.600000</td>\n",
       "      <td>37390.100000</td>\n",
       "      <td>40095.356333</td>\n",
       "      <td>36770.000000</td>\n",
       "    </tr>\n",
       "    <tr>\n",
       "      <th>2021-01-16</th>\n",
       "      <td>BTC</td>\n",
       "      <td>36764.500000</td>\n",
       "      <td>39151.600000</td>\n",
       "      <td>39675.827001</td>\n",
       "      <td>34406.400000</td>\n",
       "    </tr>\n",
       "    <tr>\n",
       "      <th>2021-01-17</th>\n",
       "      <td>BTC</td>\n",
       "      <td>36029.171468</td>\n",
       "      <td>36764.500000</td>\n",
       "      <td>37929.400000</td>\n",
       "      <td>35400.000000</td>\n",
       "    </tr>\n",
       "    <tr>\n",
       "      <th>2021-01-18</th>\n",
       "      <td>BTC</td>\n",
       "      <td>35816.400000</td>\n",
       "      <td>36027.266697</td>\n",
       "      <td>36839.864899</td>\n",
       "      <td>33864.600000</td>\n",
       "    </tr>\n",
       "    <tr>\n",
       "      <th>2021-01-19</th>\n",
       "      <td>BTC</td>\n",
       "      <td>36616.950000</td>\n",
       "      <td>35816.400000</td>\n",
       "      <td>37400.000000</td>\n",
       "      <td>34790.830220</td>\n",
       "    </tr>\n",
       "    <tr>\n",
       "      <th>...</th>\n",
       "      <td>...</td>\n",
       "      <td>...</td>\n",
       "      <td>...</td>\n",
       "      <td>...</td>\n",
       "      <td>...</td>\n",
       "    </tr>\n",
       "    <tr>\n",
       "      <th>2022-01-10</th>\n",
       "      <td>BTC</td>\n",
       "      <td>41861.803632</td>\n",
       "      <td>41687.020626</td>\n",
       "      <td>42786.700000</td>\n",
       "      <td>41255.300000</td>\n",
       "    </tr>\n",
       "    <tr>\n",
       "      <th>2022-01-11</th>\n",
       "      <td>BTC</td>\n",
       "      <td>41838.406280</td>\n",
       "      <td>41863.140231</td>\n",
       "      <td>42241.736467</td>\n",
       "      <td>39677.652134</td>\n",
       "    </tr>\n",
       "    <tr>\n",
       "      <th>2022-01-12</th>\n",
       "      <td>BTC</td>\n",
       "      <td>42737.637061</td>\n",
       "      <td>41837.225666</td>\n",
       "      <td>43106.047087</td>\n",
       "      <td>41299.511552</td>\n",
       "    </tr>\n",
       "    <tr>\n",
       "      <th>2022-01-13</th>\n",
       "      <td>BTC</td>\n",
       "      <td>43921.810000</td>\n",
       "      <td>42736.778968</td>\n",
       "      <td>44324.000000</td>\n",
       "      <td>42480.700000</td>\n",
       "    </tr>\n",
       "    <tr>\n",
       "      <th>2022-01-14</th>\n",
       "      <td>BTC</td>\n",
       "      <td>42558.937409</td>\n",
       "      <td>43920.614432</td>\n",
       "      <td>44418.700000</td>\n",
       "      <td>42349.434153</td>\n",
       "    </tr>\n",
       "  </tbody>\n",
       "</table>\n",
       "<p>365 rows × 5 columns</p>\n",
       "</div>"
      ],
      "text/plain": [
       "           Currency  Closing Price (USD)  24h Open (USD)  24h High (USD)  \\\n",
       "Date                                                                       \n",
       "2021-01-15      BTC         39151.600000    37390.100000    40095.356333   \n",
       "2021-01-16      BTC         36764.500000    39151.600000    39675.827001   \n",
       "2021-01-17      BTC         36029.171468    36764.500000    37929.400000   \n",
       "2021-01-18      BTC         35816.400000    36027.266697    36839.864899   \n",
       "2021-01-19      BTC         36616.950000    35816.400000    37400.000000   \n",
       "...             ...                  ...             ...             ...   \n",
       "2022-01-10      BTC         41861.803632    41687.020626    42786.700000   \n",
       "2022-01-11      BTC         41838.406280    41863.140231    42241.736467   \n",
       "2022-01-12      BTC         42737.637061    41837.225666    43106.047087   \n",
       "2022-01-13      BTC         43921.810000    42736.778968    44324.000000   \n",
       "2022-01-14      BTC         42558.937409    43920.614432    44418.700000   \n",
       "\n",
       "            24h Low (USD)  \n",
       "Date                       \n",
       "2021-01-15   36770.000000  \n",
       "2021-01-16   34406.400000  \n",
       "2021-01-17   35400.000000  \n",
       "2021-01-18   33864.600000  \n",
       "2021-01-19   34790.830220  \n",
       "...                   ...  \n",
       "2022-01-10   41255.300000  \n",
       "2022-01-11   39677.652134  \n",
       "2022-01-12   41299.511552  \n",
       "2022-01-13   42480.700000  \n",
       "2022-01-14   42349.434153  \n",
       "\n",
       "[365 rows x 5 columns]"
      ]
     },
     "execution_count": 35,
     "metadata": {},
     "output_type": "execute_result"
    }
   ],
   "source": [
    "price"
   ]
  },
  {
   "cell_type": "code",
   "execution_count": 36,
   "id": "7db60689",
   "metadata": {},
   "outputs": [
    {
     "data": {
      "text/plain": [
       "Date\n",
       "2021-01-15    37390.100000\n",
       "2021-01-16    39151.600000\n",
       "2021-01-17    36764.500000\n",
       "2021-01-18    36027.266697\n",
       "2021-01-19    35816.400000\n",
       "                  ...     \n",
       "2022-01-10    41687.020626\n",
       "2022-01-11    41863.140231\n",
       "2022-01-12    41837.225666\n",
       "2022-01-13    42736.778968\n",
       "2022-01-14    43920.614432\n",
       "Name: 24h Open (USD), Length: 365, dtype: float64"
      ]
     },
     "execution_count": 36,
     "metadata": {},
     "output_type": "execute_result"
    }
   ],
   "source": [
    "price['24h Open (USD)']\n"
   ]
  },
  {
   "cell_type": "code",
   "execution_count": 38,
   "id": "18b301d2",
   "metadata": {},
   "outputs": [
    {
     "data": {
      "text/plain": [
       "<AxesSubplot:xlabel='Date'>"
      ]
     },
     "execution_count": 38,
     "metadata": {},
     "output_type": "execute_result"
    },
    {
     "data": {
      "image/png": "[encoded data removed]",
      "text/plain": [
       "<Figure size 432x288 with 1 Axes>"
      ]
     },
     "metadata": {
      "needs_background": "light"
     },
     "output_type": "display_data"
    }
   ],
   "source": [
    "price['24h Open (USD)'].plot()"
   ]
  },
  {
   "cell_type": "code",
   "execution_count": null,
   "id": "3cfbaf5a",
   "metadata": {},
   "outputs": [],
   "source": []
  },
  {
   "cell_type": "code",
   "execution_count": 46,
   "id": "581911a9",
   "metadata": {},
   "outputs": [
    {
     "data": {
      "text/plain": [
       "<AxesSubplot:xlabel='Date'>"
      ]
     },
     "execution_count": 46,
     "metadata": {},
     "output_type": "execute_result"
    },
    {
     "data": {
      "image/png": "[encoded data removed]",
      "text/plain": [
       "<Figure size 432x288 with 1 Axes>"
      ]
     },
     "metadata": {
      "needs_background": "light"
     },
     "output_type": "display_data"
    }
   ],
   "source": [
    "price['Closing Price (USD)'].plot()"
   ]
  },
  {
   "cell_type": "code",
   "execution_count": 113,
   "id": "f7f18a0f",
   "metadata": {},
   "outputs": [
    {
     "name": "stdout",
     "output_type": "stream",
     "text": [
      "<class 'pandas.core.frame.DataFrame'>\n"
     ]
    },
    {
     "name": "stderr",
     "output_type": "stream",
     "text": [
      "<ipython-input-113-88cdddca5316>:1: FutureWarning: Indexing a DataFrame with a datetimelike index using a single string to slice the rows, like `frame[string]`, is deprecated and will be removed in a future version. Use `frame.loc[string]` instead.\n",
      "  print(type(price['2021']))\n"
     ]
    }
   ],
   "source": [
    "print(type(price['2021']))"
   ]
  },
  {
   "cell_type": "code",
   "execution_count": 124,
   "id": "5d048dea",
   "metadata": {},
   "outputs": [],
   "source": [
    "history = pd.read_csv('C:/Users/user/Documents/BTC_USD_2014-11-04_2022-01-14-CoinDesk.csv')"
   ]
  },
  {
   "cell_type": "code",
   "execution_count": 125,
   "id": "eec7b9c3",
   "metadata": {},
   "outputs": [],
   "source": [
    "history.index = history['Date']"
   ]
  },
  {
   "cell_type": "code",
   "execution_count": 128,
   "id": "d01cca02",
   "metadata": {},
   "outputs": [
    {
     "data": {
      "text/html": [
       "<div>\n",
       "<style scoped>\n",
       "    .dataframe tbody tr th:only-of-type {\n",
       "        vertical-align: middle;\n",
       "    }\n",
       "\n",
       "    .dataframe tbody tr th {\n",
       "        vertical-align: top;\n",
       "    }\n",
       "\n",
       "    .dataframe thead th {\n",
       "        text-align: right;\n",
       "    }\n",
       "</style>\n",
       "<table border=\"1\" class=\"dataframe\">\n",
       "  <thead>\n",
       "    <tr style=\"text-align: right;\">\n",
       "      <th></th>\n",
       "      <th>Currency</th>\n",
       "      <th>Closing Price (USD)</th>\n",
       "      <th>24h Open (USD)</th>\n",
       "      <th>24h High (USD)</th>\n",
       "      <th>24h Low (USD)</th>\n",
       "    </tr>\n",
       "    <tr>\n",
       "      <th>Date</th>\n",
       "      <th></th>\n",
       "      <th></th>\n",
       "      <th></th>\n",
       "      <th></th>\n",
       "      <th></th>\n",
       "    </tr>\n",
       "  </thead>\n",
       "  <tbody>\n",
       "    <tr>\n",
       "      <th>2014-11-04</th>\n",
       "      <td>BTC</td>\n",
       "      <td>324.467934</td>\n",
       "      <td>323.826186</td>\n",
       "      <td>333.539527</td>\n",
       "      <td>323.106623</td>\n",
       "    </tr>\n",
       "    <tr>\n",
       "      <th>2014-11-05</th>\n",
       "      <td>BTC</td>\n",
       "      <td>328.644408</td>\n",
       "      <td>324.424164</td>\n",
       "      <td>330.671610</td>\n",
       "      <td>320.902900</td>\n",
       "    </tr>\n",
       "    <tr>\n",
       "      <th>2014-11-06</th>\n",
       "      <td>BTC</td>\n",
       "      <td>337.921358</td>\n",
       "      <td>328.653046</td>\n",
       "      <td>342.384170</td>\n",
       "      <td>328.597125</td>\n",
       "    </tr>\n",
       "    <tr>\n",
       "      <th>2014-11-07</th>\n",
       "      <td>BTC</td>\n",
       "      <td>348.992860</td>\n",
       "      <td>337.921358</td>\n",
       "      <td>352.585895</td>\n",
       "      <td>336.236830</td>\n",
       "    </tr>\n",
       "    <tr>\n",
       "      <th>2014-11-08</th>\n",
       "      <td>BTC</td>\n",
       "      <td>341.459753</td>\n",
       "      <td>348.992860</td>\n",
       "      <td>351.651854</td>\n",
       "      <td>340.196145</td>\n",
       "    </tr>\n",
       "  </tbody>\n",
       "</table>\n",
       "</div>"
      ],
      "text/plain": [
       "           Currency  Closing Price (USD)  24h Open (USD)  24h High (USD)  \\\n",
       "Date                                                                       \n",
       "2014-11-04      BTC           324.467934      323.826186      333.539527   \n",
       "2014-11-05      BTC           328.644408      324.424164      330.671610   \n",
       "2014-11-06      BTC           337.921358      328.653046      342.384170   \n",
       "2014-11-07      BTC           348.992860      337.921358      352.585895   \n",
       "2014-11-08      BTC           341.459753      348.992860      351.651854   \n",
       "\n",
       "            24h Low (USD)  \n",
       "Date                       \n",
       "2014-11-04     323.106623  \n",
       "2014-11-05     320.902900  \n",
       "2014-11-06     328.597125  \n",
       "2014-11-07     336.236830  \n",
       "2014-11-08     340.196145  "
      ]
     },
     "execution_count": 128,
     "metadata": {},
     "output_type": "execute_result"
    }
   ],
   "source": [
    "del history['Date']\n",
    "history.head()"
   ]
  },
  {
   "cell_type": "code",
   "execution_count": 129,
   "id": "52eb1eee",
   "metadata": {},
   "outputs": [
    {
     "data": {
      "text/plain": [
       "<AxesSubplot:xlabel='Date'>"
      ]
     },
     "execution_count": 129,
     "metadata": {},
     "output_type": "execute_result"
    },
    {
     "data": {
      "image/png": "[encoded data removed]",
      "text/plain": [
       "<Figure size 432x288 with 1 Axes>"
      ]
     },
     "metadata": {
      "needs_background": "light"
     },
     "output_type": "display_data"
    }
   ],
   "source": [
    "history.plot()"
   ]
  },
  {
   "cell_type": "code",
   "execution_count": 132,
   "id": "5fe036d3",
   "metadata": {},
   "outputs": [
    {
     "ename": "KeyError",
     "evalue": "'2016'",
     "output_type": "error",
     "traceback": [
      "\u001b[1;31m---------------------------------------------------------------------------\u001b[0m",
      "\u001b[1;31mKeyError\u001b[0m                                  Traceback (most recent call last)",
      "\u001b[1;32m~\\anaconda3\\lib\\site-packages\\pandas\\core\\indexes\\base.py\u001b[0m in \u001b[0;36mget_loc\u001b[1;34m(self, key, method, tolerance)\u001b[0m\n\u001b[0;32m   3079\u001b[0m             \u001b[1;32mtry\u001b[0m\u001b[1;33m:\u001b[0m\u001b[1;33m\u001b[0m\u001b[1;33m\u001b[0m\u001b[0m\n\u001b[1;32m-> 3080\u001b[1;33m                 \u001b[1;32mreturn\u001b[0m \u001b[0mself\u001b[0m\u001b[1;33m.\u001b[0m\u001b[0m_engine\u001b[0m\u001b[1;33m.\u001b[0m\u001b[0mget_loc\u001b[0m\u001b[1;33m(\u001b[0m\u001b[0mcasted_key\u001b[0m\u001b[1;33m)\u001b[0m\u001b[1;33m\u001b[0m\u001b[1;33m\u001b[0m\u001b[0m\n\u001b[0m\u001b[0;32m   3081\u001b[0m             \u001b[1;32mexcept\u001b[0m \u001b[0mKeyError\u001b[0m \u001b[1;32mas\u001b[0m \u001b[0merr\u001b[0m\u001b[1;33m:\u001b[0m\u001b[1;33m\u001b[0m\u001b[1;33m\u001b[0m\u001b[0m\n",
      "\u001b[1;32mpandas\\_libs\\index.pyx\u001b[0m in \u001b[0;36mpandas._libs.index.IndexEngine.get_loc\u001b[1;34m()\u001b[0m\n",
      "\u001b[1;32mpandas\\_libs\\index.pyx\u001b[0m in \u001b[0;36mpandas._libs.index.IndexEngine.get_loc\u001b[1;34m()\u001b[0m\n",
      "\u001b[1;32mpandas\\_libs\\hashtable_class_helper.pxi\u001b[0m in \u001b[0;36mpandas._libs.hashtable.PyObjectHashTable.get_item\u001b[1;34m()\u001b[0m\n",
      "\u001b[1;32mpandas\\_libs\\hashtable_class_helper.pxi\u001b[0m in \u001b[0;36mpandas._libs.hashtable.PyObjectHashTable.get_item\u001b[1;34m()\u001b[0m\n",
      "\u001b[1;31mKeyError\u001b[0m: '2016'",
      "\nThe above exception was the direct cause of the following exception:\n",
      "\u001b[1;31mKeyError\u001b[0m                                  Traceback (most recent call last)",
      "\u001b[1;32m<ipython-input-132-b4ba78824f9b>\u001b[0m in \u001b[0;36m<module>\u001b[1;34m\u001b[0m\n\u001b[1;32m----> 1\u001b[1;33m \u001b[0mhistory\u001b[0m\u001b[1;33m[\u001b[0m\u001b[1;34m'2016'\u001b[0m\u001b[1;33m]\u001b[0m\u001b[1;33m\u001b[0m\u001b[1;33m\u001b[0m\u001b[0m\n\u001b[0m",
      "\u001b[1;32m~\\anaconda3\\lib\\site-packages\\pandas\\core\\frame.py\u001b[0m in \u001b[0;36m__getitem__\u001b[1;34m(self, key)\u001b[0m\n\u001b[0;32m   3022\u001b[0m             \u001b[1;32mif\u001b[0m \u001b[0mself\u001b[0m\u001b[1;33m.\u001b[0m\u001b[0mcolumns\u001b[0m\u001b[1;33m.\u001b[0m\u001b[0mnlevels\u001b[0m \u001b[1;33m>\u001b[0m \u001b[1;36m1\u001b[0m\u001b[1;33m:\u001b[0m\u001b[1;33m\u001b[0m\u001b[1;33m\u001b[0m\u001b[0m\n\u001b[0;32m   3023\u001b[0m                 \u001b[1;32mreturn\u001b[0m \u001b[0mself\u001b[0m\u001b[1;33m.\u001b[0m\u001b[0m_getitem_multilevel\u001b[0m\u001b[1;33m(\u001b[0m\u001b[0mkey\u001b[0m\u001b[1;33m)\u001b[0m\u001b[1;33m\u001b[0m\u001b[1;33m\u001b[0m\u001b[0m\n\u001b[1;32m-> 3024\u001b[1;33m             \u001b[0mindexer\u001b[0m \u001b[1;33m=\u001b[0m \u001b[0mself\u001b[0m\u001b[1;33m.\u001b[0m\u001b[0mcolumns\u001b[0m\u001b[1;33m.\u001b[0m\u001b[0mget_loc\u001b[0m\u001b[1;33m(\u001b[0m\u001b[0mkey\u001b[0m\u001b[1;33m)\u001b[0m\u001b[1;33m\u001b[0m\u001b[1;33m\u001b[0m\u001b[0m\n\u001b[0m\u001b[0;32m   3025\u001b[0m             \u001b[1;32mif\u001b[0m \u001b[0mis_integer\u001b[0m\u001b[1;33m(\u001b[0m\u001b[0mindexer\u001b[0m\u001b[1;33m)\u001b[0m\u001b[1;33m:\u001b[0m\u001b[1;33m\u001b[0m\u001b[1;33m\u001b[0m\u001b[0m\n\u001b[0;32m   3026\u001b[0m                 \u001b[0mindexer\u001b[0m \u001b[1;33m=\u001b[0m \u001b[1;33m[\u001b[0m\u001b[0mindexer\u001b[0m\u001b[1;33m]\u001b[0m\u001b[1;33m\u001b[0m\u001b[1;33m\u001b[0m\u001b[0m\n",
      "\u001b[1;32m~\\anaconda3\\lib\\site-packages\\pandas\\core\\indexes\\base.py\u001b[0m in \u001b[0;36mget_loc\u001b[1;34m(self, key, method, tolerance)\u001b[0m\n\u001b[0;32m   3080\u001b[0m                 \u001b[1;32mreturn\u001b[0m \u001b[0mself\u001b[0m\u001b[1;33m.\u001b[0m\u001b[0m_engine\u001b[0m\u001b[1;33m.\u001b[0m\u001b[0mget_loc\u001b[0m\u001b[1;33m(\u001b[0m\u001b[0mcasted_key\u001b[0m\u001b[1;33m)\u001b[0m\u001b[1;33m\u001b[0m\u001b[1;33m\u001b[0m\u001b[0m\n\u001b[0;32m   3081\u001b[0m             \u001b[1;32mexcept\u001b[0m \u001b[0mKeyError\u001b[0m \u001b[1;32mas\u001b[0m \u001b[0merr\u001b[0m\u001b[1;33m:\u001b[0m\u001b[1;33m\u001b[0m\u001b[1;33m\u001b[0m\u001b[0m\n\u001b[1;32m-> 3082\u001b[1;33m                 \u001b[1;32mraise\u001b[0m \u001b[0mKeyError\u001b[0m\u001b[1;33m(\u001b[0m\u001b[0mkey\u001b[0m\u001b[1;33m)\u001b[0m \u001b[1;32mfrom\u001b[0m \u001b[0merr\u001b[0m\u001b[1;33m\u001b[0m\u001b[1;33m\u001b[0m\u001b[0m\n\u001b[0m\u001b[0;32m   3083\u001b[0m \u001b[1;33m\u001b[0m\u001b[0m\n\u001b[0;32m   3084\u001b[0m         \u001b[1;32mif\u001b[0m \u001b[0mtolerance\u001b[0m \u001b[1;32mis\u001b[0m \u001b[1;32mnot\u001b[0m \u001b[1;32mNone\u001b[0m\u001b[1;33m:\u001b[0m\u001b[1;33m\u001b[0m\u001b[1;33m\u001b[0m\u001b[0m\n",
      "\u001b[1;31mKeyError\u001b[0m: '2016'"
     ]
    }
   ],
   "source": [
    "h['Date'] =pd.to_datetime(price['Date'], format = \"%Y-%m-%d\")"
   ]
  },
  {
   "cell_type": "code",
   "execution_count": null,
   "id": "8172cc9c",
   "metadata": {},
   "outputs": [],
   "source": []
  }
 ],
 "metadata": {
  "kernelspec": {
   "display_name": "Python 3",
   "language": "python",
   "name": "python3"
  },
  "language_info": {
   "codemirror_mode": {
    "name": "ipython",
    "version": 3
   },
   "file_extension": ".py",
   "mimetype": "text/x-python",
   "name": "python",
   "nbconvert_exporter": "python",
   "pygments_lexer": "ipython3",
   "version": "3.8.8"
  }
 },
 "nbformat": 4,
 "nbformat_minor": 5
}
